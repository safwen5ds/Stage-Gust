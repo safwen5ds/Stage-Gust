{
 "cells": [
  {
   "cell_type": "markdown",
   "id": "IiPQpkO_p7Es",
   "metadata": {
    "id": "IiPQpkO_p7Es"
   },
   "source": [
    "# **Prétraitement des Données 🔧**"
   ]
  },
  {
   "cell_type": "markdown",
   "id": "H6sUR3kCxvbc",
   "metadata": {
    "id": "H6sUR3kCxvbc"
   },
   "source": [
    "## **🚀 Installation des packages nécessaires**"
   ]
  },
  {
   "cell_type": "code",
   "execution_count": 1,
   "id": "e4a173d1-83d9-4f50-9467-08c2594ba425",
   "metadata": {
    "colab": {
     "base_uri": "https://localhost:8080/"
    },
    "id": "e4a173d1-83d9-4f50-9467-08c2594ba425",
    "outputId": "b0b7c505-3093-4fbb-ff3e-585acdfcaa42"
   },
   "outputs": [
    {
     "name": "stdout",
     "output_type": "stream",
     "text": [
      "Requirement already satisfied: pyspark in /usr/local/spark/python (3.5.0)\n",
      "Requirement already satisfied: py4j==0.10.9.7 in /opt/conda/lib/python3.11/site-packages (from pyspark) (0.10.9.7)\n",
      "Note: you may need to restart the kernel to use updated packages.\n"
     ]
    }
   ],
   "source": [
    "pip install pyspark"
   ]
  },
  {
   "cell_type": "code",
   "execution_count": 2,
   "id": "Vz3bDwh1OXGr",
   "metadata": {
    "id": "Vz3bDwh1OXGr",
    "outputId": "17d455cc-ac2b-4c18-a888-760e68eb9cc0"
   },
   "outputs": [
    {
     "name": "stdout",
     "output_type": "stream",
     "text": [
      "Requirement already satisfied: kafka-python in /opt/conda/lib/python3.11/site-packages (2.0.2)\n",
      "Note: you may need to restart the kernel to use updated packages.\n"
     ]
    }
   ],
   "source": [
    "pip install kafka-python"
   ]
  },
  {
   "cell_type": "code",
   "execution_count": 3,
   "id": "40bd60f8-d624-4891-a5df-6c14cb6757b5",
   "metadata": {
    "colab": {
     "base_uri": "https://localhost:8080/"
    },
    "id": "40bd60f8-d624-4891-a5df-6c14cb6757b5",
    "outputId": "58cd1353-291a-49ef-e95b-c419837c5b0e"
   },
   "outputs": [
    {
     "name": "stdout",
     "output_type": "stream",
     "text": [
      "Requirement already satisfied: findspark in /opt/conda/lib/python3.11/site-packages (2.0.1)\n",
      "Note: you may need to restart the kernel to use updated packages.\n"
     ]
    }
   ],
   "source": [
    "pip install findspark"
   ]
  },
  {
   "cell_type": "code",
   "execution_count": 4,
   "id": "eaa26513-7c55-4e3b-98a4-05bd7391a0f2",
   "metadata": {
    "id": "eaa26513-7c55-4e3b-98a4-05bd7391a0f2",
    "outputId": "77d91dcb-a252-4309-95b7-d5f4be0d0037"
   },
   "outputs": [
    {
     "name": "stdout",
     "output_type": "stream",
     "text": [
      "Requirement already satisfied: plotly in /opt/conda/lib/python3.11/site-packages (5.23.0)\n",
      "Requirement already satisfied: tenacity>=6.2.0 in /opt/conda/lib/python3.11/site-packages (from plotly) (8.5.0)\n",
      "Requirement already satisfied: packaging in /opt/conda/lib/python3.11/site-packages (from plotly) (23.2)\n",
      "Note: you may need to restart the kernel to use updated packages.\n"
     ]
    }
   ],
   "source": [
    "pip install plotly"
   ]
  },
  {
   "cell_type": "code",
   "execution_count": 5,
   "id": "c90b35f9-2f3a-489b-901a-5e68e0c8a782",
   "metadata": {
    "id": "c90b35f9-2f3a-489b-901a-5e68e0c8a782",
    "outputId": "401d2260-2d86-41fc-9164-227cd0f04a00"
   },
   "outputs": [
    {
     "name": "stdout",
     "output_type": "stream",
     "text": [
      "Requirement already satisfied: scikit-learn in /opt/conda/lib/python3.11/site-packages (1.3.1)\n",
      "Requirement already satisfied: numpy<2.0,>=1.17.3 in /opt/conda/lib/python3.11/site-packages (from scikit-learn) (1.24.4)\n",
      "Requirement already satisfied: scipy>=1.5.0 in /opt/conda/lib/python3.11/site-packages (from scikit-learn) (1.11.3)\n",
      "Requirement already satisfied: joblib>=1.1.1 in /opt/conda/lib/python3.11/site-packages (from scikit-learn) (1.3.2)\n",
      "Requirement already satisfied: threadpoolctl>=2.0.0 in /opt/conda/lib/python3.11/site-packages (from scikit-learn) (3.2.0)\n",
      "Note: you may need to restart the kernel to use updated packages.\n"
     ]
    }
   ],
   "source": [
    "pip install scikit-learn"
   ]
  },
  {
   "cell_type": "code",
   "execution_count": 6,
   "id": "c95dc741-ce85-46bc-ad3b-15421b3a5693",
   "metadata": {},
   "outputs": [
    {
     "name": "stdout",
     "output_type": "stream",
     "text": [
      "Requirement already satisfied: statsmodels in /opt/conda/lib/python3.11/site-packages (0.14.0)\n",
      "Requirement already satisfied: numpy>=1.18 in /opt/conda/lib/python3.11/site-packages (from statsmodels) (1.24.4)\n",
      "Requirement already satisfied: scipy!=1.9.2,>=1.4 in /opt/conda/lib/python3.11/site-packages (from statsmodels) (1.11.3)\n",
      "Requirement already satisfied: pandas>=1.0 in /opt/conda/lib/python3.11/site-packages (from statsmodels) (2.0.3)\n",
      "Requirement already satisfied: patsy>=0.5.2 in /opt/conda/lib/python3.11/site-packages (from statsmodels) (0.5.3)\n",
      "Requirement already satisfied: packaging>=21.3 in /opt/conda/lib/python3.11/site-packages (from statsmodels) (23.2)\n",
      "Requirement already satisfied: python-dateutil>=2.8.2 in /opt/conda/lib/python3.11/site-packages (from pandas>=1.0->statsmodels) (2.8.2)\n",
      "Requirement already satisfied: pytz>=2020.1 in /opt/conda/lib/python3.11/site-packages (from pandas>=1.0->statsmodels) (2023.3.post1)\n",
      "Requirement already satisfied: tzdata>=2022.1 in /opt/conda/lib/python3.11/site-packages (from pandas>=1.0->statsmodels) (2023.3)\n",
      "Requirement already satisfied: six in /opt/conda/lib/python3.11/site-packages (from patsy>=0.5.2->statsmodels) (1.16.0)\n",
      "Note: you may need to restart the kernel to use updated packages.\n"
     ]
    }
   ],
   "source": [
    "pip install statsmodels"
   ]
  },
  {
   "cell_type": "markdown",
   "id": "-H7-G5izx2qv",
   "metadata": {
    "id": "-H7-G5izx2qv"
   },
   "source": [
    "## **📦 Imports essentiels**"
   ]
  },
  {
   "cell_type": "code",
   "execution_count": 7,
   "id": "d962e772-89c4-4304-8668-26bb98d661e4",
   "metadata": {
    "id": "d962e772-89c4-4304-8668-26bb98d661e4"
   },
   "outputs": [],
   "source": [
    "import os\n",
    "from pyspark.sql import SparkSession\n",
    "import pandas as pd\n",
    "import matplotlib.pyplot as plt\n",
    "from pyspark import SparkConf, SparkContext\n",
    "import time\n",
    "import seaborn as sns\n",
    "import numpy as np\n",
    "import findspark\n",
    "from pyspark.sql.functions import col, lit, udf , year, avg, sum, to_date, mean, split, lag, expr,ntile, collect_list,when\n",
    "from pyspark.sql.types import IntegerType, StringType, TimestampType, ArrayType, StructType, StructField\n",
    "from kafka import KafkaProducer\n",
    "import time\n",
    "import plotly.express as px\n",
    "from pyspark.sql.window import Window\n",
    "from pyspark.ml.feature import VectorAssembler\n",
    "from pyspark.ml.regression import LinearRegression\n",
    "from pyspark.ml.evaluation import RegressionEvaluator\n",
    "from pyspark.sql.window import Window\n",
    "from pyspark.ml.clustering import KMeans\n",
    "from transformers import pipeline\n",
    "from statsmodels.tsa.seasonal import seasonal_decompose\n",
    "from statsmodels.tsa.stattools import adfuller, acf, pacf\n",
    "from statsmodels.tsa.arima.model import ARIMA\n",
    "import statsmodels.api as sm\n",
    "from scipy.stats import friedmanchisquare"
   ]
  },
  {
   "cell_type": "markdown",
   "id": "3dcxDpKDx9Pj",
   "metadata": {
    "id": "3dcxDpKDx9Pj"
   },
   "source": [
    "## **🔥 Initialisation de Spark et création de la session et SparkContext**"
   ]
  },
  {
   "cell_type": "code",
   "execution_count": 8,
   "id": "MOUfc9nUOfwY",
   "metadata": {
    "id": "MOUfc9nUOfwY",
    "outputId": "4ff324cb-9ddb-4528-e434-cb7784b1ca44"
   },
   "outputs": [
    {
     "data": {
      "text/html": [
       "\n",
       "            <div>\n",
       "                <p><b>SparkSession - in-memory</b></p>\n",
       "                \n",
       "        <div>\n",
       "            <p><b>SparkContext</b></p>\n",
       "\n",
       "            <p><a href=\"http://c594501846f2:4040\">Spark UI</a></p>\n",
       "\n",
       "            <dl>\n",
       "              <dt>Version</dt>\n",
       "                <dd><code>v3.5.0</code></dd>\n",
       "              <dt>Master</dt>\n",
       "                <dd><code>local[*]</code></dd>\n",
       "              <dt>AppName</dt>\n",
       "                <dd><code>Projet</code></dd>\n",
       "            </dl>\n",
       "        </div>\n",
       "        \n",
       "            </div>\n",
       "        "
      ],
      "text/plain": [
       "<pyspark.sql.session.SparkSession at 0x7f9a7f2e62d0>"
      ]
     },
     "execution_count": 8,
     "metadata": {},
     "output_type": "execute_result"
    }
   ],
   "source": [
    "import findspark\n",
    "findspark.init()\n",
    "try:\n",
    "    spark.stop()\n",
    "except:\n",
    "    pass\n",
    "conf = SparkConf() \\\n",
    "    .setAppName(\"Projet\") \\\n",
    "    .setMaster(\"local[*]\") \\\n",
    "    .set(\"spark.streaming.stopGracefullyOnShutdown\", True) \\\n",
    "    .set('spark.jars.packages', 'org.apache.spark:spark-sql-kafka-0-10_2.12:3.3.0') \\\n",
    "    .set(\"spark.sql.execution.arrow.enabled\", \"true\") \\\n",
    "    .set(\"spark.sql.execution.arrow.pyspark.fallback.enabled\", \"true\") \\\n",
    "    .set(\"spark.sql.shuffle.partitions\", \"1000\") \\\n",
    "    .set(\"spark.driver.memory\", \"8g\") \\\n",
    "    .set(\"spark.executor.memory\", \"4g\") \\\n",
    "    .set(\"spark.executor.instances\", \"2\")\n",
    "\n",
    "sc = SparkContext(conf=conf)\n",
    "spark = SparkSession(sc)\n",
    "\n",
    "spark"
   ]
  },
  {
   "cell_type": "markdown",
   "id": "UgkIgo-XyOlE",
   "metadata": {
    "id": "UgkIgo-XyOlE"
   },
   "source": [
    "## **📥 Chargement du dataset**"
   ]
  },
  {
   "cell_type": "code",
   "execution_count": 9,
   "id": "878ce1c3-5519-4e74-939c-1df932438ccc",
   "metadata": {
    "colab": {
     "base_uri": "https://localhost:8080/"
    },
    "id": "878ce1c3-5519-4e74-939c-1df932438ccc",
    "outputId": "fd338dd0-5d0e-4d6a-a913-2abc89107527"
   },
   "outputs": [
    {
     "name": "stderr",
     "output_type": "stream",
     "text": [
      "/tmp/ipykernel_617/2072627702.py:1: DtypeWarning: Columns (4) have mixed types. Specify dtype option on import or set low_memory=False.\n",
      "  df = pd.read_csv(\"Dataset/invoice_data.csv\",sep=',')\n"
     ]
    }
   ],
   "source": [
    "df = pd.read_csv(\"Dataset/invoice_data.csv\",sep=',')"
   ]
  },
  {
   "cell_type": "code",
   "execution_count": 10,
   "id": "f48e38d9-ef75-4001-a8bc-475c879d7d7a",
   "metadata": {
    "colab": {
     "base_uri": "https://localhost:8080/",
     "height": 444
    },
    "id": "f48e38d9-ef75-4001-a8bc-475c879d7d7a",
    "outputId": "fcc4c6d5-f68e-4087-f271-37a777cbfcb0"
   },
   "outputs": [
    {
     "data": {
      "text/html": [
       "<div>\n",
       "<style scoped>\n",
       "    .dataframe tbody tr th:only-of-type {\n",
       "        vertical-align: middle;\n",
       "    }\n",
       "\n",
       "    .dataframe tbody tr th {\n",
       "        vertical-align: top;\n",
       "    }\n",
       "\n",
       "    .dataframe thead th {\n",
       "        text-align: right;\n",
       "    }\n",
       "</style>\n",
       "<table border=\"1\" class=\"dataframe\">\n",
       "  <thead>\n",
       "    <tr style=\"text-align: right;\">\n",
       "      <th></th>\n",
       "      <th>client_id</th>\n",
       "      <th>invoice_date</th>\n",
       "      <th>tarif_type</th>\n",
       "      <th>counter_number</th>\n",
       "      <th>counter_statue</th>\n",
       "      <th>counter_code</th>\n",
       "      <th>reading_remarque</th>\n",
       "      <th>counter_coefficient</th>\n",
       "      <th>consommation_level_1</th>\n",
       "      <th>consommation_level_2</th>\n",
       "      <th>consommation_level_3</th>\n",
       "      <th>consommation_level_4</th>\n",
       "      <th>old_index</th>\n",
       "      <th>new_index</th>\n",
       "      <th>months_number</th>\n",
       "      <th>counter_type</th>\n",
       "    </tr>\n",
       "  </thead>\n",
       "  <tbody>\n",
       "    <tr>\n",
       "      <th>0</th>\n",
       "      <td>train_Client_0</td>\n",
       "      <td>2014-03-24</td>\n",
       "      <td>11</td>\n",
       "      <td>1335667</td>\n",
       "      <td>0</td>\n",
       "      <td>203</td>\n",
       "      <td>8</td>\n",
       "      <td>1</td>\n",
       "      <td>82</td>\n",
       "      <td>0</td>\n",
       "      <td>0</td>\n",
       "      <td>0</td>\n",
       "      <td>14302</td>\n",
       "      <td>14384</td>\n",
       "      <td>4</td>\n",
       "      <td>ELEC</td>\n",
       "    </tr>\n",
       "    <tr>\n",
       "      <th>1</th>\n",
       "      <td>train_Client_0</td>\n",
       "      <td>2013-03-29</td>\n",
       "      <td>11</td>\n",
       "      <td>1335667</td>\n",
       "      <td>0</td>\n",
       "      <td>203</td>\n",
       "      <td>6</td>\n",
       "      <td>1</td>\n",
       "      <td>1200</td>\n",
       "      <td>184</td>\n",
       "      <td>0</td>\n",
       "      <td>0</td>\n",
       "      <td>12294</td>\n",
       "      <td>13678</td>\n",
       "      <td>4</td>\n",
       "      <td>ELEC</td>\n",
       "    </tr>\n",
       "    <tr>\n",
       "      <th>2</th>\n",
       "      <td>train_Client_0</td>\n",
       "      <td>2015-03-23</td>\n",
       "      <td>11</td>\n",
       "      <td>1335667</td>\n",
       "      <td>0</td>\n",
       "      <td>203</td>\n",
       "      <td>8</td>\n",
       "      <td>1</td>\n",
       "      <td>123</td>\n",
       "      <td>0</td>\n",
       "      <td>0</td>\n",
       "      <td>0</td>\n",
       "      <td>14624</td>\n",
       "      <td>14747</td>\n",
       "      <td>4</td>\n",
       "      <td>ELEC</td>\n",
       "    </tr>\n",
       "    <tr>\n",
       "      <th>3</th>\n",
       "      <td>train_Client_0</td>\n",
       "      <td>2015-07-13</td>\n",
       "      <td>11</td>\n",
       "      <td>1335667</td>\n",
       "      <td>0</td>\n",
       "      <td>207</td>\n",
       "      <td>8</td>\n",
       "      <td>1</td>\n",
       "      <td>102</td>\n",
       "      <td>0</td>\n",
       "      <td>0</td>\n",
       "      <td>0</td>\n",
       "      <td>14747</td>\n",
       "      <td>14849</td>\n",
       "      <td>4</td>\n",
       "      <td>ELEC</td>\n",
       "    </tr>\n",
       "    <tr>\n",
       "      <th>4</th>\n",
       "      <td>train_Client_0</td>\n",
       "      <td>2016-11-17</td>\n",
       "      <td>11</td>\n",
       "      <td>1335667</td>\n",
       "      <td>0</td>\n",
       "      <td>207</td>\n",
       "      <td>9</td>\n",
       "      <td>1</td>\n",
       "      <td>572</td>\n",
       "      <td>0</td>\n",
       "      <td>0</td>\n",
       "      <td>0</td>\n",
       "      <td>15066</td>\n",
       "      <td>15638</td>\n",
       "      <td>12</td>\n",
       "      <td>ELEC</td>\n",
       "    </tr>\n",
       "    <tr>\n",
       "      <th>...</th>\n",
       "      <td>...</td>\n",
       "      <td>...</td>\n",
       "      <td>...</td>\n",
       "      <td>...</td>\n",
       "      <td>...</td>\n",
       "      <td>...</td>\n",
       "      <td>...</td>\n",
       "      <td>...</td>\n",
       "      <td>...</td>\n",
       "      <td>...</td>\n",
       "      <td>...</td>\n",
       "      <td>...</td>\n",
       "      <td>...</td>\n",
       "      <td>...</td>\n",
       "      <td>...</td>\n",
       "      <td>...</td>\n",
       "    </tr>\n",
       "    <tr>\n",
       "      <th>4476744</th>\n",
       "      <td>train_Client_99998</td>\n",
       "      <td>2005-08-19</td>\n",
       "      <td>10</td>\n",
       "      <td>1253571</td>\n",
       "      <td>0</td>\n",
       "      <td>202</td>\n",
       "      <td>9</td>\n",
       "      <td>1</td>\n",
       "      <td>400</td>\n",
       "      <td>135</td>\n",
       "      <td>0</td>\n",
       "      <td>0</td>\n",
       "      <td>3197</td>\n",
       "      <td>3732</td>\n",
       "      <td>8</td>\n",
       "      <td>ELEC</td>\n",
       "    </tr>\n",
       "    <tr>\n",
       "      <th>4476745</th>\n",
       "      <td>train_Client_99998</td>\n",
       "      <td>2005-12-19</td>\n",
       "      <td>10</td>\n",
       "      <td>1253571</td>\n",
       "      <td>0</td>\n",
       "      <td>202</td>\n",
       "      <td>6</td>\n",
       "      <td>1</td>\n",
       "      <td>200</td>\n",
       "      <td>6</td>\n",
       "      <td>0</td>\n",
       "      <td>0</td>\n",
       "      <td>3732</td>\n",
       "      <td>3938</td>\n",
       "      <td>4</td>\n",
       "      <td>ELEC</td>\n",
       "    </tr>\n",
       "    <tr>\n",
       "      <th>4476746</th>\n",
       "      <td>train_Client_99999</td>\n",
       "      <td>1996-09-25</td>\n",
       "      <td>11</td>\n",
       "      <td>560948</td>\n",
       "      <td>0</td>\n",
       "      <td>203</td>\n",
       "      <td>6</td>\n",
       "      <td>1</td>\n",
       "      <td>259</td>\n",
       "      <td>0</td>\n",
       "      <td>0</td>\n",
       "      <td>0</td>\n",
       "      <td>13884</td>\n",
       "      <td>14143</td>\n",
       "      <td>4</td>\n",
       "      <td>ELEC</td>\n",
       "    </tr>\n",
       "    <tr>\n",
       "      <th>4476747</th>\n",
       "      <td>train_Client_99999</td>\n",
       "      <td>1996-05-28</td>\n",
       "      <td>11</td>\n",
       "      <td>560948</td>\n",
       "      <td>0</td>\n",
       "      <td>203</td>\n",
       "      <td>6</td>\n",
       "      <td>1</td>\n",
       "      <td>603</td>\n",
       "      <td>0</td>\n",
       "      <td>0</td>\n",
       "      <td>0</td>\n",
       "      <td>13281</td>\n",
       "      <td>13884</td>\n",
       "      <td>4</td>\n",
       "      <td>ELEC</td>\n",
       "    </tr>\n",
       "    <tr>\n",
       "      <th>4476748</th>\n",
       "      <td>train_Client_99999</td>\n",
       "      <td>1996-01-25</td>\n",
       "      <td>11</td>\n",
       "      <td>560948</td>\n",
       "      <td>0</td>\n",
       "      <td>203</td>\n",
       "      <td>6</td>\n",
       "      <td>1</td>\n",
       "      <td>516</td>\n",
       "      <td>0</td>\n",
       "      <td>0</td>\n",
       "      <td>0</td>\n",
       "      <td>12765</td>\n",
       "      <td>13281</td>\n",
       "      <td>4</td>\n",
       "      <td>ELEC</td>\n",
       "    </tr>\n",
       "  </tbody>\n",
       "</table>\n",
       "<p>4476749 rows × 16 columns</p>\n",
       "</div>"
      ],
      "text/plain": [
       "                  client_id invoice_date  tarif_type  counter_number  \\\n",
       "0            train_Client_0   2014-03-24          11         1335667   \n",
       "1            train_Client_0   2013-03-29          11         1335667   \n",
       "2            train_Client_0   2015-03-23          11         1335667   \n",
       "3            train_Client_0   2015-07-13          11         1335667   \n",
       "4            train_Client_0   2016-11-17          11         1335667   \n",
       "...                     ...          ...         ...             ...   \n",
       "4476744  train_Client_99998   2005-08-19          10         1253571   \n",
       "4476745  train_Client_99998   2005-12-19          10         1253571   \n",
       "4476746  train_Client_99999   1996-09-25          11          560948   \n",
       "4476747  train_Client_99999   1996-05-28          11          560948   \n",
       "4476748  train_Client_99999   1996-01-25          11          560948   \n",
       "\n",
       "        counter_statue  counter_code  reading_remarque  counter_coefficient  \\\n",
       "0                    0           203                 8                    1   \n",
       "1                    0           203                 6                    1   \n",
       "2                    0           203                 8                    1   \n",
       "3                    0           207                 8                    1   \n",
       "4                    0           207                 9                    1   \n",
       "...                ...           ...               ...                  ...   \n",
       "4476744              0           202                 9                    1   \n",
       "4476745              0           202                 6                    1   \n",
       "4476746              0           203                 6                    1   \n",
       "4476747              0           203                 6                    1   \n",
       "4476748              0           203                 6                    1   \n",
       "\n",
       "         consommation_level_1  consommation_level_2  consommation_level_3  \\\n",
       "0                          82                     0                     0   \n",
       "1                        1200                   184                     0   \n",
       "2                         123                     0                     0   \n",
       "3                         102                     0                     0   \n",
       "4                         572                     0                     0   \n",
       "...                       ...                   ...                   ...   \n",
       "4476744                   400                   135                     0   \n",
       "4476745                   200                     6                     0   \n",
       "4476746                   259                     0                     0   \n",
       "4476747                   603                     0                     0   \n",
       "4476748                   516                     0                     0   \n",
       "\n",
       "         consommation_level_4  old_index  new_index  months_number  \\\n",
       "0                           0      14302      14384              4   \n",
       "1                           0      12294      13678              4   \n",
       "2                           0      14624      14747              4   \n",
       "3                           0      14747      14849              4   \n",
       "4                           0      15066      15638             12   \n",
       "...                       ...        ...        ...            ...   \n",
       "4476744                     0       3197       3732              8   \n",
       "4476745                     0       3732       3938              4   \n",
       "4476746                     0      13884      14143              4   \n",
       "4476747                     0      13281      13884              4   \n",
       "4476748                     0      12765      13281              4   \n",
       "\n",
       "        counter_type  \n",
       "0               ELEC  \n",
       "1               ELEC  \n",
       "2               ELEC  \n",
       "3               ELEC  \n",
       "4               ELEC  \n",
       "...              ...  \n",
       "4476744         ELEC  \n",
       "4476745         ELEC  \n",
       "4476746         ELEC  \n",
       "4476747         ELEC  \n",
       "4476748         ELEC  \n",
       "\n",
       "[4476749 rows x 16 columns]"
      ]
     },
     "execution_count": 10,
     "metadata": {},
     "output_type": "execute_result"
    }
   ],
   "source": [
    "df"
   ]
  },
  {
   "cell_type": "markdown",
   "id": "JwXRwJmLyVmE",
   "metadata": {
    "id": "JwXRwJmLyVmE"
   },
   "source": [
    "## **📝 Affichage des types de colonnes**"
   ]
  },
  {
   "cell_type": "code",
   "execution_count": 11,
   "id": "2cfb46c2-fc44-4735-8074-77d906d82b1c",
   "metadata": {
    "id": "2cfb46c2-fc44-4735-8074-77d906d82b1c",
    "outputId": "984d69c5-20c1-4114-c210-e52061a1e4c0",
    "scrolled": true
   },
   "outputs": [
    {
     "name": "stdout",
     "output_type": "stream",
     "text": [
      "client_id               object\n",
      "invoice_date            object\n",
      "tarif_type               int64\n",
      "counter_number           int64\n",
      "counter_statue          object\n",
      "counter_code             int64\n",
      "reading_remarque         int64\n",
      "counter_coefficient      int64\n",
      "consommation_level_1     int64\n",
      "consommation_level_2     int64\n",
      "consommation_level_3     int64\n",
      "consommation_level_4     int64\n",
      "old_index                int64\n",
      "new_index                int64\n",
      "months_number            int64\n",
      "counter_type            object\n",
      "dtype: object\n"
     ]
    }
   ],
   "source": [
    "print(df.dtypes)"
   ]
  },
  {
   "cell_type": "markdown",
   "id": "AGkVSXLrybuu",
   "metadata": {
    "id": "AGkVSXLrybuu"
   },
   "source": [
    "## **🔍 Vérification des valeurs nulles**"
   ]
  },
  {
   "cell_type": "code",
   "execution_count": 12,
   "id": "d9e04925-234e-4070-83bb-0e899f051edc",
   "metadata": {
    "id": "d9e04925-234e-4070-83bb-0e899f051edc",
    "outputId": "5af9f20a-2c88-4d8c-f6c2-ee3d9442ccce"
   },
   "outputs": [
    {
     "name": "stdout",
     "output_type": "stream",
     "text": [
      "client_id               0\n",
      "invoice_date            0\n",
      "tarif_type              0\n",
      "counter_number          0\n",
      "counter_statue          0\n",
      "counter_code            0\n",
      "reading_remarque        0\n",
      "counter_coefficient     0\n",
      "consommation_level_1    0\n",
      "consommation_level_2    0\n",
      "consommation_level_3    0\n",
      "consommation_level_4    0\n",
      "old_index               0\n",
      "new_index               0\n",
      "months_number           0\n",
      "counter_type            0\n",
      "dtype: int64\n"
     ]
    }
   ],
   "source": [
    "print(df.isnull().sum())"
   ]
  },
  {
   "cell_type": "markdown",
   "id": "pCEpdOGuyl9b",
   "metadata": {
    "id": "pCEpdOGuyl9b"
   },
   "source": [
    "## **🛠️ Certaines colonnes ne doivent pas être de type objet, donc j'ai créé cette fonction pour vérifier les types de données présents**"
   ]
  },
  {
   "cell_type": "code",
   "execution_count": 13,
   "id": "7ef6fb36-7c1b-4134-90e2-cf34892035e5",
   "metadata": {
    "id": "7ef6fb36-7c1b-4134-90e2-cf34892035e5"
   },
   "outputs": [],
   "source": [
    "def Trouver_lestypes_de_données_dans_les_colonnes_object(df):\n",
    "    types = {}\n",
    "    for col in df.select_dtypes(include='object').columns:\n",
    "        types_trouvé = df[col].apply(lambda x: type(x).__name__).unique()\n",
    "        types[col] = types_trouvé\n",
    "\n",
    "    return types"
   ]
  },
  {
   "cell_type": "code",
   "execution_count": 14,
   "id": "5ba72c1c-35e7-46bd-abf1-752fd30fa3e7",
   "metadata": {
    "id": "5ba72c1c-35e7-46bd-abf1-752fd30fa3e7",
    "outputId": "183b2a53-9186-46ac-8c37-9986bdc0fa4e"
   },
   "outputs": [
    {
     "name": "stdout",
     "output_type": "stream",
     "text": [
      "{'client_id': array(['str'], dtype=object), 'invoice_date': array(['str'], dtype=object), 'counter_statue': array(['int', 'str'], dtype=object), 'counter_type': array(['str'], dtype=object)}\n"
     ]
    }
   ],
   "source": [
    "print(Trouver_lestypes_de_données_dans_les_colonnes_object(df))"
   ]
  },
  {
   "cell_type": "markdown",
   "id": "D2s_3kTKysKZ",
   "metadata": {
    "id": "D2s_3kTKysKZ"
   },
   "source": [
    "## **🕵️‍♂️ counter_statue contient des entiers et des strings, ce qui n'est pas normal, donc je dois vérifier les valeurs et les supprimer**"
   ]
  },
  {
   "cell_type": "code",
   "execution_count": 15,
   "id": "7b24e7c4-f090-4d8e-a3f9-12fc2cfbcde0",
   "metadata": {
    "id": "7b24e7c4-f090-4d8e-a3f9-12fc2cfbcde0"
   },
   "outputs": [],
   "source": [
    "def Trouver_Les_Valeurs_Unique_Dans_Counter_Statue():\n",
    "    unique_counter_statue = df['counter_statue'].unique()\n",
    "    print(\"\\nLes valeurs uniques dans counter statue : \")\n",
    "    print(unique_counter_statue)\n",
    "    return unique_counter_statue"
   ]
  },
  {
   "cell_type": "code",
   "execution_count": 16,
   "id": "336869dc-466e-4c6d-abd3-233e38432fe4",
   "metadata": {
    "id": "336869dc-466e-4c6d-abd3-233e38432fe4",
    "outputId": "524b77ce-6967-443e-c863-45de57fd7a42"
   },
   "outputs": [
    {
     "name": "stdout",
     "output_type": "stream",
     "text": [
      "\n",
      "Les valeurs uniques dans counter statue : \n",
      "[0 1 5 4 3 2 769 '0' '5' '1' '4' 'A' 618 269375 46 420]\n"
     ]
    }
   ],
   "source": [
    "unique_counter_statue = Trouver_Les_Valeurs_Unique_Dans_Counter_Statue()"
   ]
  },
  {
   "cell_type": "code",
   "execution_count": 17,
   "id": "a833075b-76cc-479e-a169-5033c28b4ed0",
   "metadata": {
    "id": "a833075b-76cc-479e-a169-5033c28b4ed0"
   },
   "outputs": [],
   "source": [
    "def Supprimer_les_lignes_avec_les_valeurs_string_dans_counter_statue():\n",
    "    unique_counter_statue_strings = [val for val in unique_counter_statue if isinstance(val, str)]\n",
    "    df.drop(df[df['counter_statue'].isin(unique_counter_statue_strings)].index, inplace=True)"
   ]
  },
  {
   "cell_type": "code",
   "execution_count": 18,
   "id": "535bf0ce-0ac3-4aec-a027-fb23e2fe0ff5",
   "metadata": {
    "id": "535bf0ce-0ac3-4aec-a027-fb23e2fe0ff5"
   },
   "outputs": [],
   "source": [
    "Supprimer_les_lignes_avec_les_valeurs_string_dans_counter_statue()"
   ]
  },
  {
   "cell_type": "markdown",
   "id": "A0bp1ESny1b5",
   "metadata": {
    "id": "A0bp1ESny1b5"
   },
   "source": [
    "## **📑 Les colonnes objets doivent être converties en string ou en entier pour faciliter la manipulation**"
   ]
  },
  {
   "cell_type": "code",
   "execution_count": 19,
   "id": "9f6db4b8-2977-4507-b8b7-ae9e9e1ce3d2",
   "metadata": {
    "id": "9f6db4b8-2977-4507-b8b7-ae9e9e1ce3d2"
   },
   "outputs": [],
   "source": [
    "def Convertir_les_colonnes_object_en_chaine_et_en_entier():\n",
    "    df['client_id'] = df['client_id'].astype('string')\n",
    "    df['invoice_date'] = pd.to_datetime(df['invoice_date']).astype('string')\n",
    "    df['counter_statue'] = df['counter_statue'].astype('int')\n",
    "    df['counter_type'] = df['counter_type'].astype('string')\n"
   ]
  },
  {
   "cell_type": "code",
   "execution_count": 20,
   "id": "ded20db3-a991-4f1c-a405-ed1e52f802e2",
   "metadata": {
    "id": "ded20db3-a991-4f1c-a405-ed1e52f802e2"
   },
   "outputs": [],
   "source": [
    "Convertir_les_colonnes_object_en_chaine_et_en_entier()"
   ]
  },
  {
   "cell_type": "code",
   "execution_count": 21,
   "id": "100c8854-91a8-4831-bc28-d886e96f6cee",
   "metadata": {
    "id": "100c8854-91a8-4831-bc28-d886e96f6cee",
    "outputId": "5d49c547-4e75-4704-ef9b-59ef4a4b6851"
   },
   "outputs": [
    {
     "name": "stdout",
     "output_type": "stream",
     "text": [
      "client_id               string[python]\n",
      "invoice_date            string[python]\n",
      "tarif_type                       int64\n",
      "counter_number                   int64\n",
      "counter_statue                   int64\n",
      "counter_code                     int64\n",
      "reading_remarque                 int64\n",
      "counter_coefficient              int64\n",
      "consommation_level_1             int64\n",
      "consommation_level_2             int64\n",
      "consommation_level_3             int64\n",
      "consommation_level_4             int64\n",
      "old_index                        int64\n",
      "new_index                        int64\n",
      "months_number                    int64\n",
      "counter_type            string[python]\n",
      "dtype: object\n"
     ]
    }
   ],
   "source": [
    "print(df.dtypes)"
   ]
  },
  {
   "cell_type": "markdown",
   "id": "exoTGPu-y7RB",
   "metadata": {
    "id": "exoTGPu-y7RB"
   },
   "source": [
    "## **✂️ Supprimer les colonnes qui ne sont pas nécessaires**"
   ]
  },
  {
   "cell_type": "code",
   "execution_count": 22,
   "id": "41c90215-b7c8-4945-a66d-b6be7ece78cf",
   "metadata": {
    "id": "41c90215-b7c8-4945-a66d-b6be7ece78cf"
   },
   "outputs": [],
   "source": [
    "colonnes = [\n",
    "    'client_id',\n",
    "    'counter_type'\n",
    "]\n",
    "\n",
    "df.drop(columns=colonnes, inplace=True)"
   ]
  },
  {
   "cell_type": "code",
   "execution_count": 23,
   "id": "56b79f4a-348b-43c7-9ff4-e27fa46a6e4d",
   "metadata": {
    "id": "56b79f4a-348b-43c7-9ff4-e27fa46a6e4d",
    "outputId": "a25b6941-5133-4e17-83aa-4db36e8859c8"
   },
   "outputs": [
    {
     "data": {
      "text/html": [
       "<div>\n",
       "<style scoped>\n",
       "    .dataframe tbody tr th:only-of-type {\n",
       "        vertical-align: middle;\n",
       "    }\n",
       "\n",
       "    .dataframe tbody tr th {\n",
       "        vertical-align: top;\n",
       "    }\n",
       "\n",
       "    .dataframe thead th {\n",
       "        text-align: right;\n",
       "    }\n",
       "</style>\n",
       "<table border=\"1\" class=\"dataframe\">\n",
       "  <thead>\n",
       "    <tr style=\"text-align: right;\">\n",
       "      <th></th>\n",
       "      <th>invoice_date</th>\n",
       "      <th>tarif_type</th>\n",
       "      <th>counter_number</th>\n",
       "      <th>counter_statue</th>\n",
       "      <th>counter_code</th>\n",
       "      <th>reading_remarque</th>\n",
       "      <th>counter_coefficient</th>\n",
       "      <th>consommation_level_1</th>\n",
       "      <th>consommation_level_2</th>\n",
       "      <th>consommation_level_3</th>\n",
       "      <th>consommation_level_4</th>\n",
       "      <th>old_index</th>\n",
       "      <th>new_index</th>\n",
       "      <th>months_number</th>\n",
       "    </tr>\n",
       "  </thead>\n",
       "  <tbody>\n",
       "    <tr>\n",
       "      <th>0</th>\n",
       "      <td>2014-03-24</td>\n",
       "      <td>11</td>\n",
       "      <td>1335667</td>\n",
       "      <td>0</td>\n",
       "      <td>203</td>\n",
       "      <td>8</td>\n",
       "      <td>1</td>\n",
       "      <td>82</td>\n",
       "      <td>0</td>\n",
       "      <td>0</td>\n",
       "      <td>0</td>\n",
       "      <td>14302</td>\n",
       "      <td>14384</td>\n",
       "      <td>4</td>\n",
       "    </tr>\n",
       "    <tr>\n",
       "      <th>1</th>\n",
       "      <td>2013-03-29</td>\n",
       "      <td>11</td>\n",
       "      <td>1335667</td>\n",
       "      <td>0</td>\n",
       "      <td>203</td>\n",
       "      <td>6</td>\n",
       "      <td>1</td>\n",
       "      <td>1200</td>\n",
       "      <td>184</td>\n",
       "      <td>0</td>\n",
       "      <td>0</td>\n",
       "      <td>12294</td>\n",
       "      <td>13678</td>\n",
       "      <td>4</td>\n",
       "    </tr>\n",
       "    <tr>\n",
       "      <th>2</th>\n",
       "      <td>2015-03-23</td>\n",
       "      <td>11</td>\n",
       "      <td>1335667</td>\n",
       "      <td>0</td>\n",
       "      <td>203</td>\n",
       "      <td>8</td>\n",
       "      <td>1</td>\n",
       "      <td>123</td>\n",
       "      <td>0</td>\n",
       "      <td>0</td>\n",
       "      <td>0</td>\n",
       "      <td>14624</td>\n",
       "      <td>14747</td>\n",
       "      <td>4</td>\n",
       "    </tr>\n",
       "    <tr>\n",
       "      <th>3</th>\n",
       "      <td>2015-07-13</td>\n",
       "      <td>11</td>\n",
       "      <td>1335667</td>\n",
       "      <td>0</td>\n",
       "      <td>207</td>\n",
       "      <td>8</td>\n",
       "      <td>1</td>\n",
       "      <td>102</td>\n",
       "      <td>0</td>\n",
       "      <td>0</td>\n",
       "      <td>0</td>\n",
       "      <td>14747</td>\n",
       "      <td>14849</td>\n",
       "      <td>4</td>\n",
       "    </tr>\n",
       "    <tr>\n",
       "      <th>4</th>\n",
       "      <td>2016-11-17</td>\n",
       "      <td>11</td>\n",
       "      <td>1335667</td>\n",
       "      <td>0</td>\n",
       "      <td>207</td>\n",
       "      <td>9</td>\n",
       "      <td>1</td>\n",
       "      <td>572</td>\n",
       "      <td>0</td>\n",
       "      <td>0</td>\n",
       "      <td>0</td>\n",
       "      <td>15066</td>\n",
       "      <td>15638</td>\n",
       "      <td>12</td>\n",
       "    </tr>\n",
       "    <tr>\n",
       "      <th>...</th>\n",
       "      <td>...</td>\n",
       "      <td>...</td>\n",
       "      <td>...</td>\n",
       "      <td>...</td>\n",
       "      <td>...</td>\n",
       "      <td>...</td>\n",
       "      <td>...</td>\n",
       "      <td>...</td>\n",
       "      <td>...</td>\n",
       "      <td>...</td>\n",
       "      <td>...</td>\n",
       "      <td>...</td>\n",
       "      <td>...</td>\n",
       "      <td>...</td>\n",
       "    </tr>\n",
       "    <tr>\n",
       "      <th>4476744</th>\n",
       "      <td>2005-08-19</td>\n",
       "      <td>10</td>\n",
       "      <td>1253571</td>\n",
       "      <td>0</td>\n",
       "      <td>202</td>\n",
       "      <td>9</td>\n",
       "      <td>1</td>\n",
       "      <td>400</td>\n",
       "      <td>135</td>\n",
       "      <td>0</td>\n",
       "      <td>0</td>\n",
       "      <td>3197</td>\n",
       "      <td>3732</td>\n",
       "      <td>8</td>\n",
       "    </tr>\n",
       "    <tr>\n",
       "      <th>4476745</th>\n",
       "      <td>2005-12-19</td>\n",
       "      <td>10</td>\n",
       "      <td>1253571</td>\n",
       "      <td>0</td>\n",
       "      <td>202</td>\n",
       "      <td>6</td>\n",
       "      <td>1</td>\n",
       "      <td>200</td>\n",
       "      <td>6</td>\n",
       "      <td>0</td>\n",
       "      <td>0</td>\n",
       "      <td>3732</td>\n",
       "      <td>3938</td>\n",
       "      <td>4</td>\n",
       "    </tr>\n",
       "    <tr>\n",
       "      <th>4476746</th>\n",
       "      <td>1996-09-25</td>\n",
       "      <td>11</td>\n",
       "      <td>560948</td>\n",
       "      <td>0</td>\n",
       "      <td>203</td>\n",
       "      <td>6</td>\n",
       "      <td>1</td>\n",
       "      <td>259</td>\n",
       "      <td>0</td>\n",
       "      <td>0</td>\n",
       "      <td>0</td>\n",
       "      <td>13884</td>\n",
       "      <td>14143</td>\n",
       "      <td>4</td>\n",
       "    </tr>\n",
       "    <tr>\n",
       "      <th>4476747</th>\n",
       "      <td>1996-05-28</td>\n",
       "      <td>11</td>\n",
       "      <td>560948</td>\n",
       "      <td>0</td>\n",
       "      <td>203</td>\n",
       "      <td>6</td>\n",
       "      <td>1</td>\n",
       "      <td>603</td>\n",
       "      <td>0</td>\n",
       "      <td>0</td>\n",
       "      <td>0</td>\n",
       "      <td>13281</td>\n",
       "      <td>13884</td>\n",
       "      <td>4</td>\n",
       "    </tr>\n",
       "    <tr>\n",
       "      <th>4476748</th>\n",
       "      <td>1996-01-25</td>\n",
       "      <td>11</td>\n",
       "      <td>560948</td>\n",
       "      <td>0</td>\n",
       "      <td>203</td>\n",
       "      <td>6</td>\n",
       "      <td>1</td>\n",
       "      <td>516</td>\n",
       "      <td>0</td>\n",
       "      <td>0</td>\n",
       "      <td>0</td>\n",
       "      <td>12765</td>\n",
       "      <td>13281</td>\n",
       "      <td>4</td>\n",
       "    </tr>\n",
       "  </tbody>\n",
       "</table>\n",
       "<p>4443981 rows × 14 columns</p>\n",
       "</div>"
      ],
      "text/plain": [
       "        invoice_date  tarif_type  counter_number  counter_statue  \\\n",
       "0         2014-03-24          11         1335667               0   \n",
       "1         2013-03-29          11         1335667               0   \n",
       "2         2015-03-23          11         1335667               0   \n",
       "3         2015-07-13          11         1335667               0   \n",
       "4         2016-11-17          11         1335667               0   \n",
       "...              ...         ...             ...             ...   \n",
       "4476744   2005-08-19          10         1253571               0   \n",
       "4476745   2005-12-19          10         1253571               0   \n",
       "4476746   1996-09-25          11          560948               0   \n",
       "4476747   1996-05-28          11          560948               0   \n",
       "4476748   1996-01-25          11          560948               0   \n",
       "\n",
       "         counter_code  reading_remarque  counter_coefficient  \\\n",
       "0                 203                 8                    1   \n",
       "1                 203                 6                    1   \n",
       "2                 203                 8                    1   \n",
       "3                 207                 8                    1   \n",
       "4                 207                 9                    1   \n",
       "...               ...               ...                  ...   \n",
       "4476744           202                 9                    1   \n",
       "4476745           202                 6                    1   \n",
       "4476746           203                 6                    1   \n",
       "4476747           203                 6                    1   \n",
       "4476748           203                 6                    1   \n",
       "\n",
       "         consommation_level_1  consommation_level_2  consommation_level_3  \\\n",
       "0                          82                     0                     0   \n",
       "1                        1200                   184                     0   \n",
       "2                         123                     0                     0   \n",
       "3                         102                     0                     0   \n",
       "4                         572                     0                     0   \n",
       "...                       ...                   ...                   ...   \n",
       "4476744                   400                   135                     0   \n",
       "4476745                   200                     6                     0   \n",
       "4476746                   259                     0                     0   \n",
       "4476747                   603                     0                     0   \n",
       "4476748                   516                     0                     0   \n",
       "\n",
       "         consommation_level_4  old_index  new_index  months_number  \n",
       "0                           0      14302      14384              4  \n",
       "1                           0      12294      13678              4  \n",
       "2                           0      14624      14747              4  \n",
       "3                           0      14747      14849              4  \n",
       "4                           0      15066      15638             12  \n",
       "...                       ...        ...        ...            ...  \n",
       "4476744                     0       3197       3732              8  \n",
       "4476745                     0       3732       3938              4  \n",
       "4476746                     0      13884      14143              4  \n",
       "4476747                     0      13281      13884              4  \n",
       "4476748                     0      12765      13281              4  \n",
       "\n",
       "[4443981 rows x 14 columns]"
      ]
     },
     "execution_count": 23,
     "metadata": {},
     "output_type": "execute_result"
    }
   ],
   "source": [
    "df"
   ]
  },
  {
   "cell_type": "markdown",
   "id": "-Z-BDlAUzANx",
   "metadata": {
    "id": "-Z-BDlAUzANx"
   },
   "source": [
    "## **👀 J'ai voulu voir les valeurs uniques dans chaque colonne pour savoir quelles colonnes supprimer ces valeurs aberrantes**"
   ]
  },
  {
   "cell_type": "code",
   "execution_count": 24,
   "id": "0a7e1cec-942b-4eeb-9e56-ab280883b198",
   "metadata": {
    "id": "0a7e1cec-942b-4eeb-9e56-ab280883b198",
    "outputId": "ee84d75e-f82f-4da0-ce48-d7a4e4497527"
   },
   "outputs": [
    {
     "name": "stdout",
     "output_type": "stream",
     "text": [
      "Valeurs de comptage pour la colonne 'invoice_date':\n",
      "      invoice_date  count\n",
      "0      2019-03-09   4100\n",
      "1      2017-03-10   3396\n",
      "2      2017-05-09   3382\n",
      "3      2017-02-06   3180\n",
      "4      2017-03-05   3170\n",
      "...           ...    ...\n",
      "7514   1984-05-23      1\n",
      "7515   1985-09-17      1\n",
      "7516   1994-04-07      1\n",
      "7517   1988-01-27      1\n",
      "8259   1982-01-09      1\n",
      "\n",
      "[8260 rows x 2 columns] \n",
      "\n",
      "Valeurs de comptage pour la colonne 'tarif_type':\n",
      "     tarif_type    count\n",
      "0           11  2660464\n",
      "1           40  1369447\n",
      "2           10   274053\n",
      "3           15    71854\n",
      "4           45    17373\n",
      "5           13    11632\n",
      "6           14    11587\n",
      "7           12    11325\n",
      "8           29    10080\n",
      "9            9     5972\n",
      "10          21      104\n",
      "11           8       40\n",
      "12          30       35\n",
      "13          24        9\n",
      "14          18        4\n",
      "15          42        1\n",
      "16          27        1 \n",
      "\n",
      "Valeurs de comptage pour la colonne 'counter_number':\n",
      "         counter_number  count\n",
      "0                    0  42991\n",
      "1                 2786    251\n",
      "2               630317    230\n",
      "3               162709    226\n",
      "4                  963    220\n",
      "...                ...    ...\n",
      "195266           25135      1\n",
      "195265          261645      1\n",
      "195264         1379161      1\n",
      "195263            2950      1\n",
      "200552   2168700168500      1\n",
      "\n",
      "[200553 rows x 2 columns] \n",
      "\n",
      "Valeurs de comptage pour la colonne 'counter_statue':\n",
      "     counter_statue    count\n",
      "0                0  4346960\n",
      "1                1    73496\n",
      "2                5    20495\n",
      "3                4     2706\n",
      "4                3      258\n",
      "5                2       32\n",
      "6               46       14\n",
      "7              618       12\n",
      "8              769        6\n",
      "9           269375        1\n",
      "10             420        1 \n",
      "\n",
      "Valeurs de comptage pour la colonne 'counter_code':\n",
      "     counter_code    count\n",
      "0            203  1505666\n",
      "1              5  1341977\n",
      "2            207   551811\n",
      "3            413   376157\n",
      "4            202   340553\n",
      "5            420    97522\n",
      "6            410    68734\n",
      "7            433    34251\n",
      "8             10    27494\n",
      "9            442    16948\n",
      "10            25    14856\n",
      "11           407    13709\n",
      "12           204    12240\n",
      "13           453     8150\n",
      "14           201     7641\n",
      "15           467     7292\n",
      "16           506     3388\n",
      "17           483     2830\n",
      "18           214     2639\n",
      "19            40     2381\n",
      "20           532     1982\n",
      "21           565     1082\n",
      "22           403     1070\n",
      "23           450     1058\n",
      "24           600      807\n",
      "25           210      784\n",
      "26           102      310\n",
      "27           227      178\n",
      "28            65       74\n",
      "29           101       74\n",
      "30            16       73\n",
      "31           310       51\n",
      "32           307       50\n",
      "33           305       44\n",
      "34           222       42\n",
      "35             0       33\n",
      "36           317       16\n",
      "37           303        5\n",
      "38           333        4\n",
      "39           367        3\n",
      "40           325        1\n",
      "41             1        1 \n",
      "\n",
      "Valeurs de comptage pour la colonne 'reading_remarque':\n",
      "    reading_remarque    count\n",
      "0                 6  2214510\n",
      "1                 9  1406875\n",
      "2                 8   821912\n",
      "3                 7      650\n",
      "4               203       15\n",
      "5               413       12\n",
      "6               207        6\n",
      "7                 5        1 \n",
      "\n",
      "Valeurs de comptage pour la colonne 'counter_coefficient':\n",
      "     counter_coefficient    count\n",
      "0                     1  4442337\n",
      "1                     2      886\n",
      "2                     3      321\n",
      "3                    40      197\n",
      "4                    30      137\n",
      "5                     0       43\n",
      "6                     6       30\n",
      "7                     4       12\n",
      "8                    10        6\n",
      "9                    20        3\n",
      "10                    9        3\n",
      "11                   50        2\n",
      "12                   33        1\n",
      "13                    5        1\n",
      "14                   11        1\n",
      "15                    8        1 \n",
      "\n",
      "Valeurs de comptage pour la colonne 'consommation_level_1':\n",
      "       consommation_level_1   count\n",
      "0                        0  464279\n",
      "1                      800  246174\n",
      "2                      200  150009\n",
      "3                     1200  138732\n",
      "4                      300   39999\n",
      "...                    ...     ...\n",
      "6364                  7190       1\n",
      "6365                  5089       1\n",
      "6366                  3543       1\n",
      "6367                  4773       1\n",
      "8241                  8314       1\n",
      "\n",
      "[8242 rows x 2 columns] \n",
      "\n",
      "Valeurs de comptage pour la colonne 'consommation_level_2':\n",
      "        consommation_level_2    count\n",
      "0                         0  3788311\n",
      "1                       400   117604\n",
      "2                       100    34216\n",
      "3                       200    13095\n",
      "4                       800    12128\n",
      "...                     ...      ...\n",
      "9529                   7335        1\n",
      "9530                  14016        1\n",
      "9531                  12285        1\n",
      "9532                  11770        1\n",
      "12555                 32001        1\n",
      "\n",
      "[12556 rows x 2 columns] \n",
      "\n",
      "Valeurs de comptage pour la colonne 'consommation_level_3':\n",
      "       consommation_level_3    count\n",
      "0                        0  4261957\n",
      "1                      800    45175\n",
      "2                      200    31180\n",
      "3                      400     7838\n",
      "4                     1600     4489\n",
      "...                    ...      ...\n",
      "1816                  1926        1\n",
      "1817                  1762        1\n",
      "1818                  2049        1\n",
      "1819                  1543        1\n",
      "2245                  1390        1\n",
      "\n",
      "[2246 rows x 2 columns] \n",
      "\n",
      "Valeurs de comptage pour la colonne 'consommation_level_4':\n",
      "        consommation_level_4    count\n",
      "0                         0  4351749\n",
      "1                       200      142\n",
      "2                       120       83\n",
      "3                       132       81\n",
      "4                       125       77\n",
      "...                     ...      ...\n",
      "8930                   8106        1\n",
      "8929                   9150        1\n",
      "8928                  13004        1\n",
      "8927                  24878        1\n",
      "12043                 12645        1\n",
      "\n",
      "[12044 rows x 2 columns] \n",
      "\n",
      "Valeurs de comptage pour la colonne 'old_index':\n",
      "         old_index   count\n",
      "0               0  285900\n",
      "1               1    6226\n",
      "2               2    4369\n",
      "3               3    3404\n",
      "4               4    2605\n",
      "...           ...     ...\n",
      "116128     345176       1\n",
      "116129      73444       1\n",
      "116130     315132       1\n",
      "116131     335037       1\n",
      "155173      86004       1\n",
      "\n",
      "[155174 rows x 2 columns] \n",
      "\n",
      "Valeurs de comptage pour la colonne 'new_index':\n",
      "         new_index   count\n",
      "0               0  194600\n",
      "1               1    6152\n",
      "2               2    4159\n",
      "3               3    3354\n",
      "4               4    2579\n",
      "...           ...     ...\n",
      "117681     409254       1\n",
      "117682     467200       1\n",
      "117683     133705       1\n",
      "117684     133047       1\n",
      "157507      83410       1\n",
      "\n",
      "[157508 rows x 2 columns] \n",
      "\n",
      "Valeurs de comptage pour la colonne 'months_number':\n",
      "       months_number    count\n",
      "0                 4  3653598\n",
      "1                 8   276623\n",
      "2                 2   268981\n",
      "3                 1   112463\n",
      "4                12    53909\n",
      "...             ...      ...\n",
      "509          426164        1\n",
      "508          452661        1\n",
      "507          323833        1\n",
      "506          226034        1\n",
      "1366         463554        1\n",
      "\n",
      "[1367 rows x 2 columns] \n",
      "\n"
     ]
    }
   ],
   "source": [
    "colonnes_a_iterer = [\n",
    "    'invoice_date', 'tarif_type', 'counter_number', 'counter_statue',\n",
    "    'counter_code', 'reading_remarque', 'counter_coefficient', 'consommation_level_1',\n",
    "    'consommation_level_2', 'consommation_level_3', 'consommation_level_4', 'old_index',\n",
    "    'new_index', 'months_number'\n",
    "]\n",
    "\n",
    "for colonne in colonnes_a_iterer:\n",
    "    compteur = df[colonne].value_counts().reset_index()\n",
    "    compteur.columns = [colonne, 'count']\n",
    "    compteur = compteur.sort_values(by='count', ascending=False)\n",
    "    print(f\"Valeurs de comptage pour la colonne '{colonne}':\\n\", compteur, \"\\n\")"
   ]
  },
  {
   "cell_type": "code",
   "execution_count": 25,
   "id": "0bdb15bf-3d85-437b-b4b9-8f0b24882a99",
   "metadata": {
    "id": "0bdb15bf-3d85-437b-b4b9-8f0b24882a99"
   },
   "outputs": [],
   "source": [
    "def dataset_sans_valeurs_aberrant(df,colonne):\n",
    "    q1 = df[colonne].quantile(0.25)\n",
    "    q2 = df[colonne].quantile(0.75)\n",
    "    q3 = q2 - q1\n",
    "    lower_quantile = q1 - 1.5 * q3\n",
    "    upper_quantile = q2 + 1.5 * q3\n",
    "    return df[(df[colonne] >= lower_quantile) & (df[colonne] <= upper_quantile)]"
   ]
  },
  {
   "cell_type": "code",
   "execution_count": 26,
   "id": "5f4fb949-814a-4455-8227-f5e06cf42b55",
   "metadata": {
    "id": "5f4fb949-814a-4455-8227-f5e06cf42b55"
   },
   "outputs": [],
   "source": [
    "df = dataset_sans_valeurs_aberrant(df, 'reading_remarque')\n",
    "df = dataset_sans_valeurs_aberrant(df, 'months_number')\n",
    "df = dataset_sans_valeurs_aberrant(df, 'counter_coefficient')\n",
    "df = dataset_sans_valeurs_aberrant(df, 'counter_number')"
   ]
  },
  {
   "cell_type": "code",
   "execution_count": 27,
   "id": "298b575c-4e89-40c5-925c-d7531ca6a001",
   "metadata": {
    "id": "298b575c-4e89-40c5-925c-d7531ca6a001",
    "outputId": "b92ee69a-638e-4aa9-8a0f-15f4cd632eb4"
   },
   "outputs": [
    {
     "data": {
      "text/html": [
       "<div>\n",
       "<style scoped>\n",
       "    .dataframe tbody tr th:only-of-type {\n",
       "        vertical-align: middle;\n",
       "    }\n",
       "\n",
       "    .dataframe tbody tr th {\n",
       "        vertical-align: top;\n",
       "    }\n",
       "\n",
       "    .dataframe thead th {\n",
       "        text-align: right;\n",
       "    }\n",
       "</style>\n",
       "<table border=\"1\" class=\"dataframe\">\n",
       "  <thead>\n",
       "    <tr style=\"text-align: right;\">\n",
       "      <th></th>\n",
       "      <th>invoice_date</th>\n",
       "      <th>tarif_type</th>\n",
       "      <th>counter_number</th>\n",
       "      <th>counter_statue</th>\n",
       "      <th>counter_code</th>\n",
       "      <th>reading_remarque</th>\n",
       "      <th>counter_coefficient</th>\n",
       "      <th>consommation_level_1</th>\n",
       "      <th>consommation_level_2</th>\n",
       "      <th>consommation_level_3</th>\n",
       "      <th>consommation_level_4</th>\n",
       "      <th>old_index</th>\n",
       "      <th>new_index</th>\n",
       "      <th>months_number</th>\n",
       "    </tr>\n",
       "  </thead>\n",
       "  <tbody>\n",
       "    <tr>\n",
       "      <th>0</th>\n",
       "      <td>2014-03-24</td>\n",
       "      <td>11</td>\n",
       "      <td>1335667</td>\n",
       "      <td>0</td>\n",
       "      <td>203</td>\n",
       "      <td>8</td>\n",
       "      <td>1</td>\n",
       "      <td>82</td>\n",
       "      <td>0</td>\n",
       "      <td>0</td>\n",
       "      <td>0</td>\n",
       "      <td>14302</td>\n",
       "      <td>14384</td>\n",
       "      <td>4</td>\n",
       "    </tr>\n",
       "    <tr>\n",
       "      <th>1</th>\n",
       "      <td>2013-03-29</td>\n",
       "      <td>11</td>\n",
       "      <td>1335667</td>\n",
       "      <td>0</td>\n",
       "      <td>203</td>\n",
       "      <td>6</td>\n",
       "      <td>1</td>\n",
       "      <td>1200</td>\n",
       "      <td>184</td>\n",
       "      <td>0</td>\n",
       "      <td>0</td>\n",
       "      <td>12294</td>\n",
       "      <td>13678</td>\n",
       "      <td>4</td>\n",
       "    </tr>\n",
       "    <tr>\n",
       "      <th>2</th>\n",
       "      <td>2015-03-23</td>\n",
       "      <td>11</td>\n",
       "      <td>1335667</td>\n",
       "      <td>0</td>\n",
       "      <td>203</td>\n",
       "      <td>8</td>\n",
       "      <td>1</td>\n",
       "      <td>123</td>\n",
       "      <td>0</td>\n",
       "      <td>0</td>\n",
       "      <td>0</td>\n",
       "      <td>14624</td>\n",
       "      <td>14747</td>\n",
       "      <td>4</td>\n",
       "    </tr>\n",
       "    <tr>\n",
       "      <th>3</th>\n",
       "      <td>2015-07-13</td>\n",
       "      <td>11</td>\n",
       "      <td>1335667</td>\n",
       "      <td>0</td>\n",
       "      <td>207</td>\n",
       "      <td>8</td>\n",
       "      <td>1</td>\n",
       "      <td>102</td>\n",
       "      <td>0</td>\n",
       "      <td>0</td>\n",
       "      <td>0</td>\n",
       "      <td>14747</td>\n",
       "      <td>14849</td>\n",
       "      <td>4</td>\n",
       "    </tr>\n",
       "    <tr>\n",
       "      <th>8</th>\n",
       "      <td>2011-07-22</td>\n",
       "      <td>11</td>\n",
       "      <td>1335667</td>\n",
       "      <td>0</td>\n",
       "      <td>203</td>\n",
       "      <td>9</td>\n",
       "      <td>1</td>\n",
       "      <td>1200</td>\n",
       "      <td>186</td>\n",
       "      <td>0</td>\n",
       "      <td>0</td>\n",
       "      <td>7770</td>\n",
       "      <td>9156</td>\n",
       "      <td>4</td>\n",
       "    </tr>\n",
       "    <tr>\n",
       "      <th>...</th>\n",
       "      <td>...</td>\n",
       "      <td>...</td>\n",
       "      <td>...</td>\n",
       "      <td>...</td>\n",
       "      <td>...</td>\n",
       "      <td>...</td>\n",
       "      <td>...</td>\n",
       "      <td>...</td>\n",
       "      <td>...</td>\n",
       "      <td>...</td>\n",
       "      <td>...</td>\n",
       "      <td>...</td>\n",
       "      <td>...</td>\n",
       "      <td>...</td>\n",
       "    </tr>\n",
       "    <tr>\n",
       "      <th>4476743</th>\n",
       "      <td>2019-11-06</td>\n",
       "      <td>11</td>\n",
       "      <td>262195</td>\n",
       "      <td>0</td>\n",
       "      <td>207</td>\n",
       "      <td>9</td>\n",
       "      <td>1</td>\n",
       "      <td>578</td>\n",
       "      <td>0</td>\n",
       "      <td>0</td>\n",
       "      <td>0</td>\n",
       "      <td>8505</td>\n",
       "      <td>9083</td>\n",
       "      <td>4</td>\n",
       "    </tr>\n",
       "    <tr>\n",
       "      <th>4476745</th>\n",
       "      <td>2005-12-19</td>\n",
       "      <td>10</td>\n",
       "      <td>1253571</td>\n",
       "      <td>0</td>\n",
       "      <td>202</td>\n",
       "      <td>6</td>\n",
       "      <td>1</td>\n",
       "      <td>200</td>\n",
       "      <td>6</td>\n",
       "      <td>0</td>\n",
       "      <td>0</td>\n",
       "      <td>3732</td>\n",
       "      <td>3938</td>\n",
       "      <td>4</td>\n",
       "    </tr>\n",
       "    <tr>\n",
       "      <th>4476746</th>\n",
       "      <td>1996-09-25</td>\n",
       "      <td>11</td>\n",
       "      <td>560948</td>\n",
       "      <td>0</td>\n",
       "      <td>203</td>\n",
       "      <td>6</td>\n",
       "      <td>1</td>\n",
       "      <td>259</td>\n",
       "      <td>0</td>\n",
       "      <td>0</td>\n",
       "      <td>0</td>\n",
       "      <td>13884</td>\n",
       "      <td>14143</td>\n",
       "      <td>4</td>\n",
       "    </tr>\n",
       "    <tr>\n",
       "      <th>4476747</th>\n",
       "      <td>1996-05-28</td>\n",
       "      <td>11</td>\n",
       "      <td>560948</td>\n",
       "      <td>0</td>\n",
       "      <td>203</td>\n",
       "      <td>6</td>\n",
       "      <td>1</td>\n",
       "      <td>603</td>\n",
       "      <td>0</td>\n",
       "      <td>0</td>\n",
       "      <td>0</td>\n",
       "      <td>13281</td>\n",
       "      <td>13884</td>\n",
       "      <td>4</td>\n",
       "    </tr>\n",
       "    <tr>\n",
       "      <th>4476748</th>\n",
       "      <td>1996-01-25</td>\n",
       "      <td>11</td>\n",
       "      <td>560948</td>\n",
       "      <td>0</td>\n",
       "      <td>203</td>\n",
       "      <td>6</td>\n",
       "      <td>1</td>\n",
       "      <td>516</td>\n",
       "      <td>0</td>\n",
       "      <td>0</td>\n",
       "      <td>0</td>\n",
       "      <td>12765</td>\n",
       "      <td>13281</td>\n",
       "      <td>4</td>\n",
       "    </tr>\n",
       "  </tbody>\n",
       "</table>\n",
       "<p>3056480 rows × 14 columns</p>\n",
       "</div>"
      ],
      "text/plain": [
       "        invoice_date  tarif_type  counter_number  counter_statue  \\\n",
       "0         2014-03-24          11         1335667               0   \n",
       "1         2013-03-29          11         1335667               0   \n",
       "2         2015-03-23          11         1335667               0   \n",
       "3         2015-07-13          11         1335667               0   \n",
       "8         2011-07-22          11         1335667               0   \n",
       "...              ...         ...             ...             ...   \n",
       "4476743   2019-11-06          11          262195               0   \n",
       "4476745   2005-12-19          10         1253571               0   \n",
       "4476746   1996-09-25          11          560948               0   \n",
       "4476747   1996-05-28          11          560948               0   \n",
       "4476748   1996-01-25          11          560948               0   \n",
       "\n",
       "         counter_code  reading_remarque  counter_coefficient  \\\n",
       "0                 203                 8                    1   \n",
       "1                 203                 6                    1   \n",
       "2                 203                 8                    1   \n",
       "3                 207                 8                    1   \n",
       "8                 203                 9                    1   \n",
       "...               ...               ...                  ...   \n",
       "4476743           207                 9                    1   \n",
       "4476745           202                 6                    1   \n",
       "4476746           203                 6                    1   \n",
       "4476747           203                 6                    1   \n",
       "4476748           203                 6                    1   \n",
       "\n",
       "         consommation_level_1  consommation_level_2  consommation_level_3  \\\n",
       "0                          82                     0                     0   \n",
       "1                        1200                   184                     0   \n",
       "2                         123                     0                     0   \n",
       "3                         102                     0                     0   \n",
       "8                        1200                   186                     0   \n",
       "...                       ...                   ...                   ...   \n",
       "4476743                   578                     0                     0   \n",
       "4476745                   200                     6                     0   \n",
       "4476746                   259                     0                     0   \n",
       "4476747                   603                     0                     0   \n",
       "4476748                   516                     0                     0   \n",
       "\n",
       "         consommation_level_4  old_index  new_index  months_number  \n",
       "0                           0      14302      14384              4  \n",
       "1                           0      12294      13678              4  \n",
       "2                           0      14624      14747              4  \n",
       "3                           0      14747      14849              4  \n",
       "8                           0       7770       9156              4  \n",
       "...                       ...        ...        ...            ...  \n",
       "4476743                     0       8505       9083              4  \n",
       "4476745                     0       3732       3938              4  \n",
       "4476746                     0      13884      14143              4  \n",
       "4476747                     0      13281      13884              4  \n",
       "4476748                     0      12765      13281              4  \n",
       "\n",
       "[3056480 rows x 14 columns]"
      ]
     },
     "execution_count": 27,
     "metadata": {},
     "output_type": "execute_result"
    }
   ],
   "source": [
    "df"
   ]
  },
  {
   "cell_type": "code",
   "execution_count": 28,
   "id": "b666f67d-91f4-453c-8c29-b2b5c2478d81",
   "metadata": {
    "id": "b666f67d-91f4-453c-8c29-b2b5c2478d81",
    "outputId": "422b757e-169b-4338-8276-dff5b29ffbae"
   },
   "outputs": [
    {
     "name": "stdout",
     "output_type": "stream",
     "text": [
      "Valeurs de comptage pour la colonne 'invoice_date':\n",
      "      invoice_date  count\n",
      "0      2017-04-24   2136\n",
      "1      2017-02-01   2049\n",
      "2      2015-04-28   2006\n",
      "3      2015-08-24   1957\n",
      "4      2016-08-25   1936\n",
      "...           ...    ...\n",
      "6298   1993-05-27      1\n",
      "6299   1980-06-17      1\n",
      "6300   1980-10-16      1\n",
      "6301   1992-11-08      1\n",
      "6907   1993-03-08      1\n",
      "\n",
      "[6908 rows x 2 columns] \n",
      "\n",
      "Valeurs de comptage pour la colonne 'tarif_type':\n",
      "     tarif_type    count\n",
      "0           11  2092019\n",
      "1           40   703069\n",
      "2           10   188852\n",
      "3           15    46070\n",
      "4           29     6894\n",
      "5           13     5641\n",
      "6           14     5602\n",
      "7           12     5531\n",
      "8            9     2618\n",
      "9           45      122\n",
      "10          21       51\n",
      "11          24        8\n",
      "12          18        3 \n",
      "\n",
      "Valeurs de comptage pour la colonne 'counter_number':\n",
      "         counter_number  count\n",
      "0                    0  35116\n",
      "1                 2840    155\n",
      "2                 1081    154\n",
      "3                  740    147\n",
      "4                59558    142\n",
      "...                ...    ...\n",
      "142485          716863      1\n",
      "142484          449624      1\n",
      "142483          272605      1\n",
      "142482         1071584      1\n",
      "145963          383239      1\n",
      "\n",
      "[145964 rows x 2 columns] \n",
      "\n",
      "Valeurs de comptage pour la colonne 'counter_statue':\n",
      "    counter_statue    count\n",
      "0               0  3026506\n",
      "1               1    26830\n",
      "2               4     2036\n",
      "3               5     1040\n",
      "4               3       66\n",
      "5               2        2 \n",
      "\n",
      "Valeurs de comptage pour la colonne 'counter_code':\n",
      "     counter_code    count\n",
      "0            203  1252217\n",
      "1              5   699913\n",
      "2            207   431032\n",
      "3            413   273557\n",
      "4            202   232181\n",
      "5            420    59360\n",
      "6            410    51102\n",
      "7            433    16543\n",
      "8            204     9504\n",
      "9            407     9280\n",
      "10           442     6116\n",
      "11           201     3974\n",
      "12            10     3156\n",
      "13           453     2434\n",
      "14           214     1925\n",
      "15           467     1335\n",
      "16           403      724\n",
      "17           210      560\n",
      "18           483      430\n",
      "19           506      387\n",
      "20           450      318\n",
      "21           532      121\n",
      "22            25      119\n",
      "23           565       49\n",
      "24           102       32\n",
      "25           227       25\n",
      "26           600       20\n",
      "27           305       18\n",
      "28           307       15\n",
      "29           310       13\n",
      "30           317        6\n",
      "31           101        4\n",
      "32           367        3\n",
      "33            40        3\n",
      "34           333        2\n",
      "35           303        1\n",
      "36           222        1 \n",
      "\n",
      "Valeurs de comptage pour la colonne 'reading_remarque':\n",
      "    reading_remarque    count\n",
      "0                 6  1585206\n",
      "1                 9   973412\n",
      "2                 8   497697\n",
      "3                 7      165 \n",
      "\n",
      "Valeurs de comptage pour la colonne 'counter_coefficient':\n",
      "    counter_coefficient    count\n",
      "0                    1  3056480 \n",
      "\n",
      "Valeurs de comptage pour la colonne 'consommation_level_1':\n",
      "       consommation_level_1   count\n",
      "0                        0  263155\n",
      "1                      800  230716\n",
      "2                     1200  133269\n",
      "3                      200   92093\n",
      "4                        1   14273\n",
      "...                    ...     ...\n",
      "3834                  8554       1\n",
      "3833                  7680       1\n",
      "3832                  5977       1\n",
      "3831                  5894       1\n",
      "5123                  3434       1\n",
      "\n",
      "[5124 rows x 2 columns] \n",
      "\n",
      "Valeurs de comptage pour la colonne 'consommation_level_2':\n",
      "       consommation_level_2    count\n",
      "0                        0  2604664\n",
      "1                      400   110241\n",
      "2                      200      869\n",
      "3                       20      869\n",
      "4                        2      861\n",
      "...                    ...      ...\n",
      "7239                 17964        1\n",
      "7240                  7600        1\n",
      "7241                 17249        1\n",
      "7242                 19825        1\n",
      "9569                  6846        1\n",
      "\n",
      "[9570 rows x 2 columns] \n",
      "\n",
      "Valeurs de comptage pour la colonne 'consommation_level_3':\n",
      "      consommation_level_3    count\n",
      "0                       0  2946477\n",
      "1                     800    42326\n",
      "2                      18      206\n",
      "3                      14      186\n",
      "4                      22      183\n",
      "..                    ...      ...\n",
      "799                   791       28\n",
      "800                   782       27\n",
      "801                   801        4\n",
      "802                   802        1\n",
      "803                   803        1\n",
      "\n",
      "[804 rows x 2 columns] \n",
      "\n",
      "Valeurs de comptage pour la colonne 'consommation_level_4':\n",
      "       consommation_level_4    count\n",
      "0                        0  3014120\n",
      "1                       15       54\n",
      "2                      120       52\n",
      "3                       21       50\n",
      "4                       73       50\n",
      "...                    ...      ...\n",
      "5681                 12310        1\n",
      "5682                  8897        1\n",
      "5683                 14586        1\n",
      "5684                 15257        1\n",
      "7856                  7554        1\n",
      "\n",
      "[7857 rows x 2 columns] \n",
      "\n",
      "Valeurs de comptage pour la colonne 'old_index':\n",
      "         old_index   count\n",
      "0               0  137006\n",
      "1               1    3869\n",
      "2               2    2845\n",
      "3               3    2075\n",
      "4               4    1684\n",
      "...           ...     ...\n",
      "89276       90179       1\n",
      "89275       97176       1\n",
      "89274      119739       1\n",
      "89273      107250       1\n",
      "106316      61879       1\n",
      "\n",
      "[106317 rows x 2 columns] \n",
      "\n",
      "Valeurs de comptage pour la colonne 'new_index':\n",
      "         new_index   count\n",
      "0               0  104294\n",
      "1               1    3344\n",
      "2               2    2437\n",
      "3               3    1810\n",
      "4               4    1451\n",
      "...           ...     ...\n",
      "90476       73081       1\n",
      "90475      102425       1\n",
      "90474       88672       1\n",
      "90473       92398       1\n",
      "107693      69471       1\n",
      "\n",
      "[107694 rows x 2 columns] \n",
      "\n",
      "Valeurs de comptage pour la colonne 'months_number':\n",
      "    months_number    count\n",
      "0              4  3056480 \n",
      "\n"
     ]
    }
   ],
   "source": [
    "colonnes_a_iterer = [\n",
    "    'invoice_date', 'tarif_type', 'counter_number', 'counter_statue',\n",
    "    'counter_code', 'reading_remarque', 'counter_coefficient', 'consommation_level_1',\n",
    "    'consommation_level_2', 'consommation_level_3', 'consommation_level_4', 'old_index',\n",
    "    'new_index', 'months_number'\n",
    "]\n",
    "\n",
    "for colonne in colonnes_a_iterer:\n",
    "    compteur = df[colonne].value_counts().reset_index()\n",
    "    compteur.columns = [colonne, 'count']\n",
    "    compteur = compteur.sort_values(by='count', ascending=False)\n",
    "    print(f\"Valeurs de comptage pour la colonne '{colonne}':\\n\", compteur, \"\\n\")"
   ]
  },
  {
   "cell_type": "markdown",
   "id": "ZcDgRc4UzJ1v",
   "metadata": {
    "id": "ZcDgRc4UzJ1v"
   },
   "source": [
    "# **Visualisation des Données 📊**"
   ]
  },
  {
   "cell_type": "markdown",
   "id": "AD7AxizIzOle",
   "metadata": {
    "id": "AD7AxizIzOle"
   },
   "source": [
    "## **📈 Voici des plots pour voir les distributions des niveaux de consommations**"
   ]
  },
  {
   "cell_type": "code",
   "execution_count": 29,
   "id": "1e41298c-e7fd-47dc-bbff-e6a385286b6f",
   "metadata": {
    "id": "1e41298c-e7fd-47dc-bbff-e6a385286b6f"
   },
   "outputs": [],
   "source": [
    "colonnes = ['consommation_level_1', 'consommation_level_2', 'consommation_level_3', 'consommation_level_4']"
   ]
  },
  {
   "cell_type": "code",
   "execution_count": 30,
   "id": "7j7ypRvb5LBa",
   "metadata": {
    "colab": {
     "base_uri": "https://localhost:8080/",
     "height": 806
    },
    "id": "7j7ypRvb5LBa",
    "outputId": "37c8e226-f1e8-473a-cfb4-0d0ef4243978"
   },
   "outputs": [
    {
     "data": {
      "image/png": "[encoded data removed]",
      "text/plain": [
       "<Figure size 1600x800 with 4 Axes>"
      ]
     },
     "metadata": {},
     "output_type": "display_data"
    }
   ],
   "source": [
    "num_columns = len(colonnes)\n",
    "rows = (num_columns + 1) // 2\n",
    "\n",
    "\n",
    "fig, axes = plt.subplots(rows, 2, figsize=(16, 4 * rows))\n",
    "axes = axes.flatten()\n",
    "\n",
    "\n",
    "for i, colonne in enumerate(colonnes):\n",
    "    sns.histplot(df[colonne], kde=True, ax=axes[i], bins=100)\n",
    "    axes[i].set_title(f'Distribution de {colonne}')\n",
    "    axes[i].set_yscale('linear')\n",
    "    axes[i].set_xlabel(\"Consommation d'Électricité en Kilowatt-Heures \")\n",
    "    axes[i].set_ylabel('Fréquence')\n",
    "\n",
    "\n",
    "for j in range(i + 1, len(axes)):\n",
    "    fig.delaxes(axes[j])\n",
    "\n",
    "\n",
    "plt.tight_layout()\n",
    "plt.show()\n"
   ]
  },
  {
   "cell_type": "markdown",
   "id": "ypZRd6iJzUgn",
   "metadata": {
    "id": "ypZRd6iJzUgn"
   },
   "source": [
    "## **📉 Voici une boxplot pour voir les valeurs aberrantes des consommations**"
   ]
  },
  {
   "cell_type": "code",
   "execution_count": 31,
   "id": "17f1d823-a1b2-4cab-9aaa-dbda3151e2f2",
   "metadata": {
    "colab": {
     "base_uri": "https://localhost:8080/",
     "height": 522
    },
    "id": "17f1d823-a1b2-4cab-9aaa-dbda3151e2f2",
    "outputId": "9b3b9205-52d8-4d3e-d626-47f5a86cc0e0"
   },
   "outputs": [
    {
     "data": {
      "image/png": "[encoded data removed]",
      "text/plain": [
       "<Figure size 1200x600 with 1 Axes>"
      ]
     },
     "metadata": {},
     "output_type": "display_data"
    }
   ],
   "source": [
    "plt.figure(figsize=(12, 6))\n",
    "df.boxplot(column=colonnes)\n",
    "plt.ylabel(\"Consommation d'Électricité en Kilowatt-Heures \")\n",
    "plt.yscale('linear')\n",
    "plt.show()"
   ]
  },
  {
   "cell_type": "code",
   "execution_count": 32,
   "id": "62298229-5bb3-4704-ad0e-6bfdcbb4a191",
   "metadata": {
    "colab": {
     "base_uri": "https://localhost:8080/",
     "height": 424
    },
    "id": "62298229-5bb3-4704-ad0e-6bfdcbb4a191",
    "outputId": "90586a62-e9ba-44d0-aa1b-5e5f9d22fba2"
   },
   "outputs": [
    {
     "data": {
      "text/html": [
       "<div>\n",
       "<style scoped>\n",
       "    .dataframe tbody tr th:only-of-type {\n",
       "        vertical-align: middle;\n",
       "    }\n",
       "\n",
       "    .dataframe tbody tr th {\n",
       "        vertical-align: top;\n",
       "    }\n",
       "\n",
       "    .dataframe thead th {\n",
       "        text-align: right;\n",
       "    }\n",
       "</style>\n",
       "<table border=\"1\" class=\"dataframe\">\n",
       "  <thead>\n",
       "    <tr style=\"text-align: right;\">\n",
       "      <th></th>\n",
       "      <th>invoice_date</th>\n",
       "      <th>tarif_type</th>\n",
       "      <th>counter_number</th>\n",
       "      <th>counter_statue</th>\n",
       "      <th>counter_code</th>\n",
       "      <th>reading_remarque</th>\n",
       "      <th>counter_coefficient</th>\n",
       "      <th>consommation_level_1</th>\n",
       "      <th>consommation_level_2</th>\n",
       "      <th>consommation_level_3</th>\n",
       "      <th>consommation_level_4</th>\n",
       "      <th>old_index</th>\n",
       "      <th>new_index</th>\n",
       "      <th>months_number</th>\n",
       "    </tr>\n",
       "  </thead>\n",
       "  <tbody>\n",
       "    <tr>\n",
       "      <th>0</th>\n",
       "      <td>2014-03-24</td>\n",
       "      <td>11</td>\n",
       "      <td>1335667</td>\n",
       "      <td>0</td>\n",
       "      <td>203</td>\n",
       "      <td>8</td>\n",
       "      <td>1</td>\n",
       "      <td>82</td>\n",
       "      <td>0</td>\n",
       "      <td>0</td>\n",
       "      <td>0</td>\n",
       "      <td>14302</td>\n",
       "      <td>14384</td>\n",
       "      <td>4</td>\n",
       "    </tr>\n",
       "    <tr>\n",
       "      <th>1</th>\n",
       "      <td>2013-03-29</td>\n",
       "      <td>11</td>\n",
       "      <td>1335667</td>\n",
       "      <td>0</td>\n",
       "      <td>203</td>\n",
       "      <td>6</td>\n",
       "      <td>1</td>\n",
       "      <td>1200</td>\n",
       "      <td>184</td>\n",
       "      <td>0</td>\n",
       "      <td>0</td>\n",
       "      <td>12294</td>\n",
       "      <td>13678</td>\n",
       "      <td>4</td>\n",
       "    </tr>\n",
       "    <tr>\n",
       "      <th>2</th>\n",
       "      <td>2015-03-23</td>\n",
       "      <td>11</td>\n",
       "      <td>1335667</td>\n",
       "      <td>0</td>\n",
       "      <td>203</td>\n",
       "      <td>8</td>\n",
       "      <td>1</td>\n",
       "      <td>123</td>\n",
       "      <td>0</td>\n",
       "      <td>0</td>\n",
       "      <td>0</td>\n",
       "      <td>14624</td>\n",
       "      <td>14747</td>\n",
       "      <td>4</td>\n",
       "    </tr>\n",
       "    <tr>\n",
       "      <th>3</th>\n",
       "      <td>2015-07-13</td>\n",
       "      <td>11</td>\n",
       "      <td>1335667</td>\n",
       "      <td>0</td>\n",
       "      <td>207</td>\n",
       "      <td>8</td>\n",
       "      <td>1</td>\n",
       "      <td>102</td>\n",
       "      <td>0</td>\n",
       "      <td>0</td>\n",
       "      <td>0</td>\n",
       "      <td>14747</td>\n",
       "      <td>14849</td>\n",
       "      <td>4</td>\n",
       "    </tr>\n",
       "    <tr>\n",
       "      <th>8</th>\n",
       "      <td>2011-07-22</td>\n",
       "      <td>11</td>\n",
       "      <td>1335667</td>\n",
       "      <td>0</td>\n",
       "      <td>203</td>\n",
       "      <td>9</td>\n",
       "      <td>1</td>\n",
       "      <td>1200</td>\n",
       "      <td>186</td>\n",
       "      <td>0</td>\n",
       "      <td>0</td>\n",
       "      <td>7770</td>\n",
       "      <td>9156</td>\n",
       "      <td>4</td>\n",
       "    </tr>\n",
       "    <tr>\n",
       "      <th>...</th>\n",
       "      <td>...</td>\n",
       "      <td>...</td>\n",
       "      <td>...</td>\n",
       "      <td>...</td>\n",
       "      <td>...</td>\n",
       "      <td>...</td>\n",
       "      <td>...</td>\n",
       "      <td>...</td>\n",
       "      <td>...</td>\n",
       "      <td>...</td>\n",
       "      <td>...</td>\n",
       "      <td>...</td>\n",
       "      <td>...</td>\n",
       "      <td>...</td>\n",
       "    </tr>\n",
       "    <tr>\n",
       "      <th>4476743</th>\n",
       "      <td>2019-11-06</td>\n",
       "      <td>11</td>\n",
       "      <td>262195</td>\n",
       "      <td>0</td>\n",
       "      <td>207</td>\n",
       "      <td>9</td>\n",
       "      <td>1</td>\n",
       "      <td>578</td>\n",
       "      <td>0</td>\n",
       "      <td>0</td>\n",
       "      <td>0</td>\n",
       "      <td>8505</td>\n",
       "      <td>9083</td>\n",
       "      <td>4</td>\n",
       "    </tr>\n",
       "    <tr>\n",
       "      <th>4476745</th>\n",
       "      <td>2005-12-19</td>\n",
       "      <td>10</td>\n",
       "      <td>1253571</td>\n",
       "      <td>0</td>\n",
       "      <td>202</td>\n",
       "      <td>6</td>\n",
       "      <td>1</td>\n",
       "      <td>200</td>\n",
       "      <td>6</td>\n",
       "      <td>0</td>\n",
       "      <td>0</td>\n",
       "      <td>3732</td>\n",
       "      <td>3938</td>\n",
       "      <td>4</td>\n",
       "    </tr>\n",
       "    <tr>\n",
       "      <th>4476746</th>\n",
       "      <td>1996-09-25</td>\n",
       "      <td>11</td>\n",
       "      <td>560948</td>\n",
       "      <td>0</td>\n",
       "      <td>203</td>\n",
       "      <td>6</td>\n",
       "      <td>1</td>\n",
       "      <td>259</td>\n",
       "      <td>0</td>\n",
       "      <td>0</td>\n",
       "      <td>0</td>\n",
       "      <td>13884</td>\n",
       "      <td>14143</td>\n",
       "      <td>4</td>\n",
       "    </tr>\n",
       "    <tr>\n",
       "      <th>4476747</th>\n",
       "      <td>1996-05-28</td>\n",
       "      <td>11</td>\n",
       "      <td>560948</td>\n",
       "      <td>0</td>\n",
       "      <td>203</td>\n",
       "      <td>6</td>\n",
       "      <td>1</td>\n",
       "      <td>603</td>\n",
       "      <td>0</td>\n",
       "      <td>0</td>\n",
       "      <td>0</td>\n",
       "      <td>13281</td>\n",
       "      <td>13884</td>\n",
       "      <td>4</td>\n",
       "    </tr>\n",
       "    <tr>\n",
       "      <th>4476748</th>\n",
       "      <td>1996-01-25</td>\n",
       "      <td>11</td>\n",
       "      <td>560948</td>\n",
       "      <td>0</td>\n",
       "      <td>203</td>\n",
       "      <td>6</td>\n",
       "      <td>1</td>\n",
       "      <td>516</td>\n",
       "      <td>0</td>\n",
       "      <td>0</td>\n",
       "      <td>0</td>\n",
       "      <td>12765</td>\n",
       "      <td>13281</td>\n",
       "      <td>4</td>\n",
       "    </tr>\n",
       "  </tbody>\n",
       "</table>\n",
       "<p>3056480 rows × 14 columns</p>\n",
       "</div>"
      ],
      "text/plain": [
       "        invoice_date  tarif_type  counter_number  counter_statue  \\\n",
       "0         2014-03-24          11         1335667               0   \n",
       "1         2013-03-29          11         1335667               0   \n",
       "2         2015-03-23          11         1335667               0   \n",
       "3         2015-07-13          11         1335667               0   \n",
       "8         2011-07-22          11         1335667               0   \n",
       "...              ...         ...             ...             ...   \n",
       "4476743   2019-11-06          11          262195               0   \n",
       "4476745   2005-12-19          10         1253571               0   \n",
       "4476746   1996-09-25          11          560948               0   \n",
       "4476747   1996-05-28          11          560948               0   \n",
       "4476748   1996-01-25          11          560948               0   \n",
       "\n",
       "         counter_code  reading_remarque  counter_coefficient  \\\n",
       "0                 203                 8                    1   \n",
       "1                 203                 6                    1   \n",
       "2                 203                 8                    1   \n",
       "3                 207                 8                    1   \n",
       "8                 203                 9                    1   \n",
       "...               ...               ...                  ...   \n",
       "4476743           207                 9                    1   \n",
       "4476745           202                 6                    1   \n",
       "4476746           203                 6                    1   \n",
       "4476747           203                 6                    1   \n",
       "4476748           203                 6                    1   \n",
       "\n",
       "         consommation_level_1  consommation_level_2  consommation_level_3  \\\n",
       "0                          82                     0                     0   \n",
       "1                        1200                   184                     0   \n",
       "2                         123                     0                     0   \n",
       "3                         102                     0                     0   \n",
       "8                        1200                   186                     0   \n",
       "...                       ...                   ...                   ...   \n",
       "4476743                   578                     0                     0   \n",
       "4476745                   200                     6                     0   \n",
       "4476746                   259                     0                     0   \n",
       "4476747                   603                     0                     0   \n",
       "4476748                   516                     0                     0   \n",
       "\n",
       "         consommation_level_4  old_index  new_index  months_number  \n",
       "0                           0      14302      14384              4  \n",
       "1                           0      12294      13678              4  \n",
       "2                           0      14624      14747              4  \n",
       "3                           0      14747      14849              4  \n",
       "8                           0       7770       9156              4  \n",
       "...                       ...        ...        ...            ...  \n",
       "4476743                     0       8505       9083              4  \n",
       "4476745                     0       3732       3938              4  \n",
       "4476746                     0      13884      14143              4  \n",
       "4476747                     0      13281      13884              4  \n",
       "4476748                     0      12765      13281              4  \n",
       "\n",
       "[3056480 rows x 14 columns]"
      ]
     },
     "execution_count": 32,
     "metadata": {},
     "output_type": "execute_result"
    }
   ],
   "source": [
    "df"
   ]
  },
  {
   "cell_type": "code",
   "execution_count": 33,
   "id": "BBvlWVSGsq51",
   "metadata": {
    "colab": {
     "base_uri": "https://localhost:8080/"
    },
    "id": "BBvlWVSGsq51",
    "outputId": "e999677b-85e8-4ddd-e167-955936e3ec25"
   },
   "outputs": [
    {
     "name": "stdout",
     "output_type": "stream",
     "text": [
      "<class 'pandas.core.frame.DataFrame'>\n",
      "Index: 3056480 entries, 0 to 4476748\n",
      "Data columns (total 14 columns):\n",
      " #   Column                Dtype \n",
      "---  ------                ----- \n",
      " 0   invoice_date          string\n",
      " 1   tarif_type            int64 \n",
      " 2   counter_number        int64 \n",
      " 3   counter_statue        int64 \n",
      " 4   counter_code          int64 \n",
      " 5   reading_remarque      int64 \n",
      " 6   counter_coefficient   int64 \n",
      " 7   consommation_level_1  int64 \n",
      " 8   consommation_level_2  int64 \n",
      " 9   consommation_level_3  int64 \n",
      " 10  consommation_level_4  int64 \n",
      " 11  old_index             int64 \n",
      " 12  new_index             int64 \n",
      " 13  months_number         int64 \n",
      "dtypes: int64(13), string(1)\n",
      "memory usage: 349.8 MB\n"
     ]
    }
   ],
   "source": [
    "df.info()"
   ]
  },
  {
   "cell_type": "markdown",
   "id": "tJcfz3BgzaW_",
   "metadata": {
    "id": "tJcfz3BgzaW_"
   },
   "source": [
    "# **Travail avec Spark ⚡**"
   ]
  },
  {
   "cell_type": "markdown",
   "id": "98X7Fo9SzgPk",
   "metadata": {
    "id": "98X7Fo9SzgPk"
   },
   "source": [
    "## **🗃️ Création de DataFrame Spark à partir de DataFrame Pandas**"
   ]
  },
  {
   "cell_type": "code",
   "execution_count": 34,
   "id": "b8485bba-c094-4a27-8342-080bb86de2ed",
   "metadata": {
    "colab": {
     "base_uri": "https://localhost:8080/"
    },
    "id": "b8485bba-c094-4a27-8342-080bb86de2ed",
    "outputId": "34320c87-284b-4ee7-85cc-06b14e98408b"
   },
   "outputs": [],
   "source": [
    "df_spark = spark.createDataFrame(df)"
   ]
  },
  {
   "cell_type": "markdown",
   "id": "Owk-wmQhzneG",
   "metadata": {
    "id": "Owk-wmQhzneG"
   },
   "source": [
    "## **📅 Conversion de la colonne de date de string à date pour l'utiliser dans le travail**"
   ]
  },
  {
   "cell_type": "code",
   "execution_count": 35,
   "id": "047cac6f-1857-427a-809c-f9baaae0a5e0",
   "metadata": {
    "id": "047cac6f-1857-427a-809c-f9baaae0a5e0"
   },
   "outputs": [],
   "source": [
    "df_spark = df_spark.withColumn('invoice_date', to_date(col('invoice_date'), 'yyyy-MM-dd'))"
   ]
  },
  {
   "cell_type": "code",
   "execution_count": 36,
   "id": "6aba9669-40db-46be-b9ac-02ec9b1539fd",
   "metadata": {
    "id": "6aba9669-40db-46be-b9ac-02ec9b1539fd",
    "outputId": "86a9bd31-9bc0-4810-8fef-6b363ad8423f"
   },
   "outputs": [
    {
     "name": "stdout",
     "output_type": "stream",
     "text": [
      "root\n",
      " |-- invoice_date: date (nullable = true)\n",
      " |-- tarif_type: long (nullable = true)\n",
      " |-- counter_number: long (nullable = true)\n",
      " |-- counter_statue: long (nullable = true)\n",
      " |-- counter_code: long (nullable = true)\n",
      " |-- reading_remarque: long (nullable = true)\n",
      " |-- counter_coefficient: long (nullable = true)\n",
      " |-- consommation_level_1: long (nullable = true)\n",
      " |-- consommation_level_2: long (nullable = true)\n",
      " |-- consommation_level_3: long (nullable = true)\n",
      " |-- consommation_level_4: long (nullable = true)\n",
      " |-- old_index: long (nullable = true)\n",
      " |-- new_index: long (nullable = true)\n",
      " |-- months_number: long (nullable = true)\n",
      "\n"
     ]
    }
   ],
   "source": [
    "df_spark.printSchema()"
   ]
  },
  {
   "cell_type": "markdown",
   "id": "QWV3ZRaMzt4I",
   "metadata": {
    "id": "QWV3ZRaMzt4I"
   },
   "source": [
    "## **🔧 Utilisation de la librairie Spark ML pour une régression linéaire pour prédire la consommation**"
   ]
  },
  {
   "cell_type": "code",
   "execution_count": 37,
   "id": "5038130c-0db5-45a1-b649-852b778339fd",
   "metadata": {
    "id": "5038130c-0db5-45a1-b649-852b778339fd"
   },
   "outputs": [],
   "source": [
    "windowSpec = Window.partitionBy(\"counter_number\").orderBy(\"invoice_date\")"
   ]
  },
  {
   "cell_type": "code",
   "execution_count": 38,
   "id": "41feaa96-3916-4c7a-ade8-1c54a74fb16a",
   "metadata": {
    "id": "41feaa96-3916-4c7a-ade8-1c54a74fb16a"
   },
   "outputs": [],
   "source": [
    "for i in range(1, 5):\n",
    "    df_spark = df_spark.withColumn(f'consommation_level_1_lag_{i}', lag('consommation_level_1', i).over(windowSpec))\n",
    "    df_spark = df_spark.withColumn(f'consommation_level_2_lag_{i}', lag('consommation_level_2', i).over(windowSpec))\n",
    "    df_spark = df_spark.withColumn(f'consommation_level_3_lag_{i}', lag('consommation_level_3', i).over(windowSpec))\n",
    "    df_spark = df_spark.withColumn(f'consommation_level_4_lag_{i}', lag('consommation_level_4', i).over(windowSpec))"
   ]
  },
  {
   "cell_type": "code",
   "execution_count": 39,
   "id": "8fb7b459-fb73-49ad-aceb-36167c616d09",
   "metadata": {
    "id": "8fb7b459-fb73-49ad-aceb-36167c616d09"
   },
   "outputs": [],
   "source": [
    "assembler = VectorAssembler(inputCols=[\n",
    "    'counter_coefficient',\n",
    "    'consommation_level_1_lag_1',\n",
    "    'consommation_level_2_lag_1',\n",
    "    'consommation_level_3_lag_1',\n",
    "    'consommation_level_4_lag_1',\n",
    "    'old_index',\n",
    "    'new_index',\n",
    "    'months_number'\n",
    "], outputCol='features', handleInvalid=\"skip\")"
   ]
  },
  {
   "cell_type": "code",
   "execution_count": 40,
   "id": "39583955-6255-49f4-8880-d20ffe1e83ba",
   "metadata": {
    "id": "39583955-6255-49f4-8880-d20ffe1e83ba"
   },
   "outputs": [],
   "source": [
    "data = assembler.transform(df_spark)"
   ]
  },
  {
   "cell_type": "code",
   "execution_count": 41,
   "id": "c6d7ff35-4b44-4969-9f90-308cb3caf126",
   "metadata": {
    "id": "c6d7ff35-4b44-4969-9f90-308cb3caf126"
   },
   "outputs": [],
   "source": [
    "lr_level_1 = LinearRegression(featuresCol='features', labelCol='consommation_level_1')\n",
    "lr_level_2 = LinearRegression(featuresCol='features', labelCol='consommation_level_2')\n",
    "lr_level_3 = LinearRegression(featuresCol='features', labelCol='consommation_level_3')\n",
    "lr_level_4 = LinearRegression(featuresCol='features', labelCol='consommation_level_4')\n",
    "model_level_1 = lr_level_1.fit(data)\n",
    "model_level_2 = lr_level_2.fit(data)\n",
    "model_level_3 = lr_level_3.fit(data)\n",
    "model_level_4 = lr_level_4.fit(data)"
   ]
  },
  {
   "cell_type": "code",
   "execution_count": 42,
   "id": "7b9898b5-9260-4a55-939b-c45b6f72a60a",
   "metadata": {
    "id": "7b9898b5-9260-4a55-939b-c45b6f72a60a"
   },
   "outputs": [],
   "source": [
    "client_counter_number = 1335667\n",
    "client_data = df_spark.filter(df_spark.counter_number == client_counter_number).orderBy(col(\"invoice_date\").desc()).limit(1)\n",
    "client_features = assembler.transform(client_data)"
   ]
  },
  {
   "cell_type": "code",
   "execution_count": 43,
   "id": "253203e1-85c9-441d-9547-5e04f3dd1dcc",
   "metadata": {
    "id": "253203e1-85c9-441d-9547-5e04f3dd1dcc",
    "outputId": "ad798412-41d9-4659-aeb8-3dcaaee56c9d"
   },
   "outputs": [
    {
     "name": "stdout",
     "output_type": "stream",
     "text": [
      "Prediction consommation_level_1: 230.31977696534932\n",
      "Prediction consommation_level_2: 42.68558357636357\n",
      "Prediction consommation_level_3: 7.809714349226123\n",
      "Prediction consommation_level_4: 18.872470349435016\n"
     ]
    }
   ],
   "source": [
    "next_prediction_level_1 = model_level_1.transform(client_features).select(\"prediction\").collect()[0][0]\n",
    "next_prediction_level_2 = model_level_2.transform(client_features).select(\"prediction\").collect()[0][0]\n",
    "next_prediction_level_3 = model_level_3.transform(client_features).select(\"prediction\").collect()[0][0]\n",
    "next_prediction_level_4 = model_level_4.transform(client_features).select(\"prediction\").collect()[0][0]\n",
    "\n",
    "print(f\"Prediction consommation_level_1: {next_prediction_level_1}\")\n",
    "print(f\"Prediction consommation_level_2: {next_prediction_level_2}\")\n",
    "print(f\"Prediction consommation_level_3: {next_prediction_level_3}\")\n",
    "print(f\"Prediction consommation_level_4: {next_prediction_level_4}\")"
   ]
  },
  {
   "cell_type": "code",
   "execution_count": 44,
   "id": "a8533fba-1cb7-4b58-b1ee-8250c0b96ec7",
   "metadata": {
    "scrolled": true
   },
   "outputs": [
    {
     "data": {
      "image/png": "[encoded data removed]",
      "text/plain": [
       "<Figure size 1200x600 with 1 Axes>"
      ]
     },
     "metadata": {},
     "output_type": "display_data"
    },
    {
     "data": {
      "image/png": "[encoded data removed]",
      "text/plain": [
       "<Figure size 640x480 with 4 Axes>"
      ]
     },
     "metadata": {},
     "output_type": "display_data"
    },
    {
     "name": "stdout",
     "output_type": "stream",
     "text": [
      "Statistique du test de Friedman: 487.73227691318573\n",
      "p-value: 3.0491488769224666e-77\n"
     ]
    },
    {
     "data": {
      "image/png": "[encoded data removed]",
      "text/plain": [
       "<Figure size 1200x600 with 1 Axes>"
      ]
     },
     "metadata": {},
     "output_type": "display_data"
    },
    {
     "data": {
      "image/png": "[encoded data removed]",
      "text/plain": [
       "<Figure size 1200x600 with 1 Axes>"
      ]
     },
     "metadata": {},
     "output_type": "display_data"
    },
    {
     "name": "stdout",
     "output_type": "stream",
     "text": [
      "Statistique ADF: -1.475101156668075\n",
      "p-value: 0.5457905266273897\n",
      "Valeurs critiques:\n",
      "\t1%: -3.444\n",
      "\t5%: -2.867\n",
      "\t10%: -2.570\n",
      "                                SARIMAX Results                                \n",
      "===============================================================================\n",
      "Dep. Variable:     consommation_totale   No. Observations:                  506\n",
      "Model:                  ARIMA(1, 1, 1)   Log Likelihood               -7720.434\n",
      "Date:                 Sat, 21 Sep 2024   AIC                          15446.868\n",
      "Time:                         14:22:15   BIC                          15459.541\n",
      "Sample:                     11-30-1977   HQIC                         15451.839\n",
      "                          - 12-31-2019                                         \n",
      "Covariance Type:                   opg                                         \n",
      "==============================================================================\n",
      "                 coef    std err          z      P>|z|      [0.025      0.975]\n",
      "------------------------------------------------------------------------------\n",
      "ar.L1         -0.1186      0.037     -3.176      0.001      -0.192      -0.045\n",
      "ma.L1         -0.6144      0.030    -20.757      0.000      -0.672      -0.556\n",
      "sigma2       1.07e+12   3.03e-14   3.53e+25      0.000    1.07e+12    1.07e+12\n",
      "===================================================================================\n",
      "Ljung-Box (L1) (Q):                   0.18   Jarque-Bera (JB):              1125.97\n",
      "Prob(Q):                              0.67   Prob(JB):                         0.00\n",
      "Heteroskedasticity (H):          122738.15   Skew:                            -0.18\n",
      "Prob(H) (two-sided):                  0.00   Kurtosis:                        10.31\n",
      "===================================================================================\n",
      "\n",
      "Warnings:\n",
      "[1] Covariance matrix calculated using the outer product of gradients (complex-step).\n",
      "[2] Covariance matrix is singular or near-singular, with condition number 1.96e+40. Standard errors may be unstable.\n",
      "Test de Ljung-Box:\n",
      "      lb_stat     lb_pvalue\n",
      "10  55.312757  2.760422e-08\n",
      "Prévisions pour les prochaines périodes:\n",
      "consommation_totale          mean       mean_se  mean_ci_lower  mean_ci_upper\n",
      "date_facture                                                                 \n",
      "2020-01-31           3.128160e+06  1.034382e+06   1.100808e+06   5.155513e+06\n",
      "2020-02-29           2.976798e+06  1.070616e+06   8.784289e+05   5.075168e+06\n",
      "2020-03-31           2.994754e+06  1.131487e+06   7.770807e+05   5.212427e+06\n",
      "2020-04-30           2.992624e+06  1.186004e+06   6.680982e+05   5.317150e+06\n",
      "2020-05-31           2.992877e+06  1.238488e+06   5.654855e+05   5.420268e+06\n",
      "2020-06-30           2.992847e+06  1.288794e+06   4.668570e+05   5.518836e+06\n",
      "2020-07-31           2.992850e+06  1.337214e+06   3.719594e+05   5.613741e+06\n",
      "2020-08-31           2.992850e+06  1.383940e+06   2.803771e+05   5.705323e+06\n",
      "2020-09-30           2.992850e+06  1.429140e+06   1.917879e+05   5.793912e+06\n",
      "2020-10-31           2.992850e+06  1.472953e+06   1.059158e+05   5.879784e+06\n",
      "2020-11-30           2.992850e+06  1.515500e+06   2.252531e+04   5.963174e+06\n",
      "2020-12-31           2.992850e+06  1.556884e+06  -5.858715e+04   6.044287e+06\n"
     ]
    },
    {
     "data": {
      "text/plain": [
       "<Figure size 1200x800 with 0 Axes>"
      ]
     },
     "metadata": {},
     "output_type": "display_data"
    },
    {
     "data": {
      "image/png": "[encoded data removed]",
      "text/plain": [
       "<Figure size 640x480 with 1 Axes>"
      ]
     },
     "metadata": {},
     "output_type": "display_data"
    }
   ],
   "source": [
    "df['date_facture'] = pd.to_datetime(df['invoice_date'])\n",
    "df = df.sort_values('date_facture')\n",
    "\n",
    "df['consommation_totale'] = df['consommation_level_1'] + df['consommation_level_2'] + df['consommation_level_3'] + df['consommation_level_4']\n",
    "\n",
    "mensuel_df = df.resample('M', on='date_facture').sum()\n",
    "\n",
    "plt.figure(figsize=(12, 6))\n",
    "sns.lineplot(data=mensuel_df, x=mensuel_df.index, y='consommation_totale')\n",
    "plt.title('Consommation électrique mensuelle')\n",
    "plt.show()\n",
    "\n",
    "resultat_mensuel = seasonal_decompose(mensuel_df['consommation_totale'], model='additive')\n",
    "resultat_mensuel.plot()\n",
    "plt.show()\n",
    "\n",
    "df['annee'] = df['date_facture'].dt.year\n",
    "df['mois'] = df['date_facture'].dt.month\n",
    "\n",
    "donnees_mensuelles = df.pivot_table(values='consommation_totale', index='mois', columns='annee', aggfunc='sum')\n",
    "\n",
    "donnees_mensuelles = donnees_mensuelles.fillna(0)\n",
    "\n",
    "\n",
    "friedman_test = friedmanchisquare(*[donnees_mensuelles[annee].values for annee in donnees_mensuelles.columns])\n",
    "print('Statistique du test de Friedman:', friedman_test.statistic)\n",
    "print('p-value:', friedman_test.pvalue)\n",
    "\n",
    "lag_acf = acf(mensuel_df['consommation_totale'], nlags=20)\n",
    "lag_pacf = pacf(mensuel_df['consommation_totale'], nlags=20, method='ols')\n",
    "\n",
    "plt.figure(figsize=(12, 6))\n",
    "plt.stem(lag_acf)\n",
    "plt.title('ACF')\n",
    "plt.show()\n",
    "\n",
    "plt.figure(figsize=(12, 6))\n",
    "plt.stem(lag_pacf)\n",
    "plt.title('PACF')\n",
    "plt.show()\n",
    "\n",
    "\n",
    "adf_result = adfuller(mensuel_df['consommation_totale'])\n",
    "print('Statistique ADF:', adf_result[0])\n",
    "print('p-value:', adf_result[1])\n",
    "print('Valeurs critiques:')\n",
    "for key, value in adf_result[4].items():\n",
    "    print(f'\\t{key}: {value:.3f}')\n",
    "\n",
    "modele = ARIMA(mensuel_df['consommation_totale'], order=(1, 1, 1))\n",
    "modele_fit = modele.fit()\n",
    "\n",
    "print(modele_fit.summary())\n",
    "\n",
    "residus = modele_fit.resid\n",
    "test_lb = sm.stats.acorr_ljungbox(residus, lags=[10], return_df=True)\n",
    "print('Test de Ljung-Box:')\n",
    "print(test_lb)\n",
    "\n",
    "nb_periodes = 12\n",
    "previsions = modele_fit.get_forecast(steps=nb_periodes)\n",
    "index_previsions = pd.date_range(start=mensuel_df.index[-1] + pd.offsets.MonthBegin(), periods=nb_periodes, freq='M')\n",
    "previsions_df = previsions.summary_frame()\n",
    "previsions_df['date_facture'] = index_previsions\n",
    "previsions_df = previsions_df.set_index('date_facture')\n",
    "\n",
    "combine_df = pd.concat([mensuel_df[['consommation_totale']], previsions_df[['mean']]], axis=1)\n",
    "combine_df.columns = ['consommation_totale', 'prevision']\n",
    "\n",
    "print('Prévisions pour les prochaines périodes:')\n",
    "print(previsions_df)\n",
    "\n",
    "plt.figure(figsize=(12, 8))\n",
    "combine_df.plot()\n",
    "plt.title('Prédiction de la consommation électrique mensuelle')\n",
    "plt.xlabel('Mois')\n",
    "plt.ylabel('Consommation totale')\n",
    "plt.legend(['Consommation totale', 'Prévision'])\n",
    "plt.show()"
   ]
  },
  {
   "cell_type": "markdown",
   "id": "xIg0d7XdzzQ3",
   "metadata": {
    "id": "xIg0d7XdzzQ3"
   },
   "source": [
    "## **🕵️‍♀️ Utilisation de Isolation Forest pour trouver les anomalies dans la consommation**"
   ]
  },
  {
   "cell_type": "code",
   "execution_count": 45,
   "id": "3fb7c6d8-0f78-4fde-b42f-f67d4d3f3026",
   "metadata": {
    "id": "3fb7c6d8-0f78-4fde-b42f-f67d4d3f3026"
   },
   "outputs": [],
   "source": [
    "colonnes_consommation = ['consommation_level_1', 'consommation_level_2', 'consommation_level_3', 'consommation_level_4']"
   ]
  },
  {
   "cell_type": "code",
   "execution_count": 46,
   "id": "71b961fd-5372-4d75-8915-d31d92ec2aee",
   "metadata": {
    "id": "71b961fd-5372-4d75-8915-d31d92ec2aee"
   },
   "outputs": [],
   "source": [
    "from sklearn.ensemble import IsolationForest\n",
    "iso_forest = IsolationForest(contamination=0.01, random_state=42)\n",
    "df['anomalie'] = iso_forest.fit_predict(df[colonnes_consommation])"
   ]
  },
  {
   "cell_type": "code",
   "execution_count": 47,
   "id": "5ce28066-368a-4605-bf25-3b53f6e1be3b",
   "metadata": {
    "id": "5ce28066-368a-4605-bf25-3b53f6e1be3b"
   },
   "outputs": [],
   "source": [
    "anomalies = df[df['anomalie'] == -1]"
   ]
  },
  {
   "cell_type": "code",
   "execution_count": 48,
   "id": "e32229fd-5a1b-451f-ab0b-8e4f4cde52a1",
   "metadata": {
    "id": "e32229fd-5a1b-451f-ab0b-8e4f4cde52a1",
    "outputId": "64fa3560-658d-4532-8e9c-281229adf397"
   },
   "outputs": [],
   "source": [
    "anomalies\n",
    "anomalies.iloc[0:5].to_csv('/mnt/data/anomalies.csv', index=False)"
   ]
  },
  {
   "cell_type": "markdown",
   "id": "UYUEwwckz4Yv",
   "metadata": {
    "id": "UYUEwwckz4Yv"
   },
   "source": [
    "## **📊 Segmenter les clients selon leur consommation (2019) en 3 groupes en utilisant deux méthodes : percentiles et k-means**"
   ]
  },
  {
   "cell_type": "code",
   "execution_count": 49,
   "id": "5c0d5511-8e87-4890-9ee3-636b63d36316",
   "metadata": {
    "id": "5c0d5511-8e87-4890-9ee3-636b63d36316"
   },
   "outputs": [],
   "source": [
    "df_2019 = df_spark.filter(year(col(\"invoice_date\")) == 2019)"
   ]
  },
  {
   "cell_type": "code",
   "execution_count": 50,
   "id": "86abf2ab-50d1-499c-b9d4-b52df8600d69",
   "metadata": {
    "id": "86abf2ab-50d1-499c-b9d4-b52df8600d69"
   },
   "outputs": [],
   "source": [
    "df_total_consumption_2019 = df_2019.groupBy(\"counter_number\").agg(\n",
    "    (sum(\"consommation_level_1\") +\n",
    "     sum(\"consommation_level_2\") +\n",
    "     sum(\"consommation_level_3\") +\n",
    "     sum(\"consommation_level_4\")).alias(\"total_consommation\")\n",
    ")"
   ]
  },
  {
   "cell_type": "code",
   "execution_count": 51,
   "id": "63904bcd-c138-4308-8475-6e423f479960",
   "metadata": {
    "id": "63904bcd-c138-4308-8475-6e423f479960"
   },
   "outputs": [],
   "source": [
    "window_spec = Window.orderBy(\"total_consommation\")"
   ]
  },
  {
   "cell_type": "code",
   "execution_count": 52,
   "id": "7ff6a898-c819-4a03-8a76-bfc6ef9a226f",
   "metadata": {
    "id": "7ff6a898-c819-4a03-8a76-bfc6ef9a226f"
   },
   "outputs": [],
   "source": [
    "df_with_percentiles_2019 = df_total_consumption_2019.withColumn(\"percentile\", ntile(100).over(window_spec))"
   ]
  },
  {
   "cell_type": "code",
   "execution_count": 53,
   "id": "0737a6e1-24a7-46df-8529-ec938c73e4a7",
   "metadata": {
    "id": "0737a6e1-24a7-46df-8529-ec938c73e4a7"
   },
   "outputs": [],
   "source": [
    "df_seg_2019 = df_with_percentiles_2019.withColumn(\n",
    "    \"groupe_consommation\",\n",
    "    expr(\"CASE WHEN percentile <= 33 THEN 'faible' \" +\n",
    "         \"WHEN percentile <= 66 THEN 'moyenne' \" +\n",
    "         \"ELSE 'elevee' END\")\n",
    ")\n",
    "\n",
    "df_seg_2019 = df_seg_2019.orderBy(col(\"total_consommation\").desc())"
   ]
  },
  {
   "cell_type": "code",
   "execution_count": 54,
   "id": "7fb4e7e7-e2b5-48d0-a13f-a65e1fee9fb7",
   "metadata": {
    "id": "7fb4e7e7-e2b5-48d0-a13f-a65e1fee9fb7",
    "outputId": "84fa6b50-d9ee-4241-90e6-85a7ac06a5fc"
   },
   "outputs": [
    {
     "name": "stdout",
     "output_type": "stream",
     "text": [
      "+--------------+------------------+-------------------+\n",
      "|counter_number|total_consommation|groupe_consommation|\n",
      "+--------------+------------------+-------------------+\n",
      "|        614015|             70791|             elevee|\n",
      "|          7122|             55067|             elevee|\n",
      "|       1766094|             49551|             elevee|\n",
      "|        632424|             49322|             elevee|\n",
      "|             0|             47329|             elevee|\n",
      "|          1585|             40345|             elevee|\n",
      "|        573414|             40321|             elevee|\n",
      "|          2840|             37995|             elevee|\n",
      "|          1630|             37822|             elevee|\n",
      "|        562094|             35829|             elevee|\n",
      "|        165082|             34252|             elevee|\n",
      "|        616576|             33714|             elevee|\n",
      "|        130963|             32332|             elevee|\n",
      "|        310812|             31271|             elevee|\n",
      "|        751158|             30651|             elevee|\n",
      "|          4772|             30370|             elevee|\n",
      "|          9951|             29739|             elevee|\n",
      "|        754727|             29484|             elevee|\n",
      "|         96167|             29426|             elevee|\n",
      "|           310|             27452|             elevee|\n",
      "+--------------+------------------+-------------------+\n",
      "only showing top 20 rows\n",
      "\n"
     ]
    }
   ],
   "source": [
    "df_seg_2019.select(\"counter_number\", \"total_consommation\", \"groupe_consommation\").show()"
   ]
  },
  {
   "cell_type": "code",
   "execution_count": 55,
   "id": "1093bc67-7ad9-4b6d-8ecb-4c679f8830c3",
   "metadata": {
    "id": "1093bc67-7ad9-4b6d-8ecb-4c679f8830c3"
   },
   "outputs": [],
   "source": [
    "df_2019 = df_spark.filter(year(col(\"invoice_date\")) == 2019)"
   ]
  },
  {
   "cell_type": "code",
   "execution_count": 56,
   "id": "5c539fcf-6297-4288-82d5-b2274028f670",
   "metadata": {
    "id": "5c539fcf-6297-4288-82d5-b2274028f670"
   },
   "outputs": [],
   "source": [
    "df_total_consumption_2019 = df_2019.groupBy(\"counter_number\").agg(\n",
    "    (sum(\"consommation_level_1\") +\n",
    "     sum(\"consommation_level_2\") +\n",
    "     sum(\"consommation_level_3\") +\n",
    "     sum(\"consommation_level_4\")).alias(\"total_consommation\")\n",
    ")"
   ]
  },
  {
   "cell_type": "code",
   "execution_count": 57,
   "id": "6e83abd7-bb2d-41c4-b4da-e237b77f9d86",
   "metadata": {
    "id": "6e83abd7-bb2d-41c4-b4da-e237b77f9d86"
   },
   "outputs": [],
   "source": [
    "assembler = VectorAssembler(inputCols=[\"total_consommation\"], outputCol=\"features\")\n",
    "df_features = assembler.transform(df_total_consumption_2019)"
   ]
  },
  {
   "cell_type": "code",
   "execution_count": 58,
   "id": "15cca5f6-520e-4d28-93ae-6e07e6977510",
   "metadata": {
    "id": "15cca5f6-520e-4d28-93ae-6e07e6977510"
   },
   "outputs": [],
   "source": [
    "kmeans = KMeans(k=3, seed=1)\n",
    "model = kmeans.fit(df_features)\n",
    "df_clusters = model.transform(df_features)"
   ]
  },
  {
   "cell_type": "code",
   "execution_count": 59,
   "id": "49520a98-f561-4a75-ad5d-657adaa2d42d",
   "metadata": {
    "id": "49520a98-f561-4a75-ad5d-657adaa2d42d"
   },
   "outputs": [],
   "source": [
    "df_clusters = df_clusters.withColumn(\n",
    "    \"groupe_consommation\",\n",
    "    when(col(\"prediction\") == 0, \"faible\")\n",
    "    .when(col(\"prediction\") == 1, \"moyenne\")\n",
    "    .otherwise(\"elevee\")\n",
    ")"
   ]
  },
  {
   "cell_type": "code",
   "execution_count": 60,
   "id": "db28fbb7-ec60-4ef0-bb90-2f919b996276",
   "metadata": {
    "id": "db28fbb7-ec60-4ef0-bb90-2f919b996276"
   },
   "outputs": [],
   "source": [
    "df_final = df_clusters.groupBy(\"groupe_consommation\").agg(\n",
    "    collect_list(\"counter_number\").alias(\"counter_numbers\")\n",
    ")"
   ]
  },
  {
   "cell_type": "code",
   "execution_count": 61,
   "id": "117ffecb-91dd-42d2-a316-ff7be5ec3467",
   "metadata": {
    "id": "117ffecb-91dd-42d2-a316-ff7be5ec3467",
    "outputId": "5e0fd692-5453-44ff-bb64-818e7ea64dcf"
   },
   "outputs": [
    {
     "name": "stdout",
     "output_type": "stream",
     "text": [
      "+-------------------+---------------------------------------------------------------------------------+\n",
      "|groupe_consommation|counter_numbers                                                                  |\n",
      "+-------------------+---------------------------------------------------------------------------------+\n",
      "|moyenne            |[553461, 728895, 616576, 177, 28107, 166802, 89780, 579836, 100524, 11608]       |\n",
      "|faible             |[374544, 47186, 392222, 223934, 1371977, 1158460, 389654, 639555, 68798, 1101234]|\n",
      "|elevee             |[37494, 57639, 1148070, 64362, 1124315, 65758, 143887, 153955, 24909, 429361]    |\n",
      "+-------------------+---------------------------------------------------------------------------------+\n",
      "\n"
     ]
    }
   ],
   "source": [
    "df_final = df_final.withColumn(\"counter_numbers\", expr(\"slice(counter_numbers, 1, 10)\"))\n",
    "\n",
    "df_final.select(\"groupe_consommation\", \"counter_numbers\").show(truncate=False)"
   ]
  },
  {
   "cell_type": "markdown",
   "id": "vacAwggC0D4P",
   "metadata": {
    "id": "vacAwggC0D4P"
   },
   "source": [
    "## **⏱️ Utilisation des méthodes d'optimisation de temps d'exécution avec Spark**"
   ]
  },
  {
   "cell_type": "code",
   "execution_count": 62,
   "id": "qaOPGFx07FD0",
   "metadata": {
    "id": "qaOPGFx07FD0"
   },
   "outputs": [
    {
     "name": "stdout",
     "output_type": "stream",
     "text": [
      "0.06229114532470703\n"
     ]
    }
   ],
   "source": [
    "\n",
    "start = time.time()\n",
    "df_yearly = df_spark.groupBy(year(\"invoice_date\").alias(\"year\")).agg(\n",
    "    avg(\"consommation_level_1\").alias(\"mean_consommation_level_1\"),\n",
    "    avg(\"consommation_level_2\").alias(\"mean_consommation_level_2\"),\n",
    "    avg(\"consommation_level_3\").alias(\"mean_consommation_level_3\")\n",
    ")\n",
    "end = time.time()\n",
    "\n",
    "temps4 = end - start\n",
    "print(temps4)"
   ]
  },
  {
   "cell_type": "code",
   "execution_count": 63,
   "id": "GWsmdP-u7tW8",
   "metadata": {
    "id": "GWsmdP-u7tW8"
   },
   "outputs": [
    {
     "name": "stdout",
     "output_type": "stream",
     "text": [
      "0.02726292610168457\n"
     ]
    }
   ],
   "source": [
    "df_spark.cache()\n",
    "start = time.time()\n",
    "df_yearly = df_spark.groupBy(year(\"invoice_date\").alias(\"year\")).agg(\n",
    "    avg(\"consommation_level_1\").alias(\"mean_consommation_level_1\"),\n",
    "    avg(\"consommation_level_2\").alias(\"mean_consommation_level_2\"),\n",
    "    avg(\"consommation_level_3\").alias(\"mean_consommation_level_3\")\n",
    ")\n",
    "end = time.time()\n",
    "df_spark.unpersist()\n",
    "temps5 = end - start\n",
    "print(temps5)"
   ]
  },
  {
   "cell_type": "code",
   "execution_count": 64,
   "id": "WDc1K87-7uz_",
   "metadata": {
    "id": "WDc1K87-7uz_"
   },
   "outputs": [
    {
     "name": "stdout",
     "output_type": "stream",
     "text": [
      "0.040760040283203125\n"
     ]
    }
   ],
   "source": [
    "start = time.time()\n",
    "df_spark = df_spark.repartition(15)\n",
    "df_yearly = df_spark.groupBy(year(\"invoice_date\").alias(\"year\")).agg(\n",
    "    avg(\"consommation_level_1\").alias(\"mean_consommation_level_1\"),\n",
    "    avg(\"consommation_level_2\").alias(\"mean_consommation_level_2\"),\n",
    "    avg(\"consommation_level_3\").alias(\"mean_consommation_level_3\")\n",
    ")\n",
    "end = time.time()\n",
    "temps6 = end - start\n",
    "print(temps6)"
   ]
  },
  {
   "cell_type": "code",
   "execution_count": 65,
   "id": "1wNpBYId98SE",
   "metadata": {
    "id": "1wNpBYId98SE"
   },
   "outputs": [
    {
     "data": {
      "image/png": "[encoded data removed]",
      "text/plain": [
       "<Figure size 640x480 with 1 Axes>"
      ]
     },
     "metadata": {},
     "output_type": "display_data"
    }
   ],
   "source": [
    "temps_exec = [temps4, temps5, temps6]\n",
    "etiquettes = ['normal', 'cache', 'repartition']\n",
    "plt.bar(etiquettes, temps_exec)\n",
    "plt.title('Comparaison des temps d\\'exécution')\n",
    "plt.xlabel('Type d\\'exécution')\n",
    "plt.ylabel('Temps (secondes)')\n",
    "\n",
    "plt.show()"
   ]
  },
  {
   "cell_type": "code",
   "execution_count": 66,
   "id": "iP7O-sSQ7U-c",
   "metadata": {
    "id": "iP7O-sSQ7U-c"
   },
   "outputs": [],
   "source": [
    "df_yearly = df_yearly.toPandas()"
   ]
  },
  {
   "cell_type": "code",
   "execution_count": 67,
   "id": "q631PTNzDTUC",
   "metadata": {
    "id": "q631PTNzDTUC"
   },
   "outputs": [],
   "source": [
    "df_yearly = df_yearly.sort_values(by='year')"
   ]
  },
  {
   "cell_type": "code",
   "execution_count": 68,
   "id": "dNLqkN8-BVTD",
   "metadata": {
    "id": "dNLqkN8-BVTD"
   },
   "outputs": [
    {
     "data": {
      "text/html": [
       "<div>\n",
       "<style scoped>\n",
       "    .dataframe tbody tr th:only-of-type {\n",
       "        vertical-align: middle;\n",
       "    }\n",
       "\n",
       "    .dataframe tbody tr th {\n",
       "        vertical-align: top;\n",
       "    }\n",
       "\n",
       "    .dataframe thead th {\n",
       "        text-align: right;\n",
       "    }\n",
       "</style>\n",
       "<table border=\"1\" class=\"dataframe\">\n",
       "  <thead>\n",
       "    <tr style=\"text-align: right;\">\n",
       "      <th></th>\n",
       "      <th>year</th>\n",
       "      <th>mean_consommation_level_1</th>\n",
       "      <th>mean_consommation_level_2</th>\n",
       "      <th>mean_consommation_level_3</th>\n",
       "    </tr>\n",
       "  </thead>\n",
       "  <tbody>\n",
       "    <tr>\n",
       "      <th>42</th>\n",
       "      <td>1977</td>\n",
       "      <td>61.000000</td>\n",
       "      <td>0.000000</td>\n",
       "      <td>0.000000</td>\n",
       "    </tr>\n",
       "    <tr>\n",
       "      <th>40</th>\n",
       "      <td>1978</td>\n",
       "      <td>111.000000</td>\n",
       "      <td>0.000000</td>\n",
       "      <td>0.000000</td>\n",
       "    </tr>\n",
       "    <tr>\n",
       "      <th>33</th>\n",
       "      <td>1979</td>\n",
       "      <td>425.333333</td>\n",
       "      <td>0.000000</td>\n",
       "      <td>0.000000</td>\n",
       "    </tr>\n",
       "    <tr>\n",
       "      <th>39</th>\n",
       "      <td>1980</td>\n",
       "      <td>269.000000</td>\n",
       "      <td>0.000000</td>\n",
       "      <td>0.000000</td>\n",
       "    </tr>\n",
       "    <tr>\n",
       "      <th>31</th>\n",
       "      <td>1981</td>\n",
       "      <td>311.636364</td>\n",
       "      <td>0.000000</td>\n",
       "      <td>0.000000</td>\n",
       "    </tr>\n",
       "    <tr>\n",
       "      <th>18</th>\n",
       "      <td>1982</td>\n",
       "      <td>302.750000</td>\n",
       "      <td>0.000000</td>\n",
       "      <td>0.000000</td>\n",
       "    </tr>\n",
       "    <tr>\n",
       "      <th>41</th>\n",
       "      <td>1983</td>\n",
       "      <td>146.111111</td>\n",
       "      <td>0.000000</td>\n",
       "      <td>0.000000</td>\n",
       "    </tr>\n",
       "    <tr>\n",
       "      <th>30</th>\n",
       "      <td>1984</td>\n",
       "      <td>212.333333</td>\n",
       "      <td>0.000000</td>\n",
       "      <td>0.000000</td>\n",
       "    </tr>\n",
       "    <tr>\n",
       "      <th>3</th>\n",
       "      <td>1985</td>\n",
       "      <td>228.322581</td>\n",
       "      <td>0.000000</td>\n",
       "      <td>0.000000</td>\n",
       "    </tr>\n",
       "    <tr>\n",
       "      <th>32</th>\n",
       "      <td>1986</td>\n",
       "      <td>419.254545</td>\n",
       "      <td>0.000000</td>\n",
       "      <td>0.000000</td>\n",
       "    </tr>\n",
       "    <tr>\n",
       "      <th>4</th>\n",
       "      <td>1987</td>\n",
       "      <td>404.009852</td>\n",
       "      <td>0.000000</td>\n",
       "      <td>0.000000</td>\n",
       "    </tr>\n",
       "    <tr>\n",
       "      <th>10</th>\n",
       "      <td>1988</td>\n",
       "      <td>405.079812</td>\n",
       "      <td>13.258216</td>\n",
       "      <td>0.000000</td>\n",
       "    </tr>\n",
       "    <tr>\n",
       "      <th>2</th>\n",
       "      <td>1989</td>\n",
       "      <td>435.724138</td>\n",
       "      <td>10.000000</td>\n",
       "      <td>0.000000</td>\n",
       "    </tr>\n",
       "    <tr>\n",
       "      <th>22</th>\n",
       "      <td>1990</td>\n",
       "      <td>441.858182</td>\n",
       "      <td>22.727273</td>\n",
       "      <td>0.000000</td>\n",
       "    </tr>\n",
       "    <tr>\n",
       "      <th>35</th>\n",
       "      <td>1991</td>\n",
       "      <td>609.787456</td>\n",
       "      <td>7.979094</td>\n",
       "      <td>0.000000</td>\n",
       "    </tr>\n",
       "    <tr>\n",
       "      <th>28</th>\n",
       "      <td>1992</td>\n",
       "      <td>447.554896</td>\n",
       "      <td>17.798220</td>\n",
       "      <td>0.000000</td>\n",
       "    </tr>\n",
       "    <tr>\n",
       "      <th>7</th>\n",
       "      <td>1993</td>\n",
       "      <td>435.354286</td>\n",
       "      <td>21.157143</td>\n",
       "      <td>0.000000</td>\n",
       "    </tr>\n",
       "    <tr>\n",
       "      <th>16</th>\n",
       "      <td>1994</td>\n",
       "      <td>432.370968</td>\n",
       "      <td>19.838710</td>\n",
       "      <td>0.000000</td>\n",
       "    </tr>\n",
       "    <tr>\n",
       "      <th>27</th>\n",
       "      <td>1995</td>\n",
       "      <td>455.932886</td>\n",
       "      <td>15.929530</td>\n",
       "      <td>0.000000</td>\n",
       "    </tr>\n",
       "    <tr>\n",
       "      <th>36</th>\n",
       "      <td>1996</td>\n",
       "      <td>567.076261</td>\n",
       "      <td>19.867159</td>\n",
       "      <td>0.000000</td>\n",
       "    </tr>\n",
       "    <tr>\n",
       "      <th>1</th>\n",
       "      <td>1997</td>\n",
       "      <td>492.503605</td>\n",
       "      <td>12.765191</td>\n",
       "      <td>0.000000</td>\n",
       "    </tr>\n",
       "    <tr>\n",
       "      <th>19</th>\n",
       "      <td>1998</td>\n",
       "      <td>520.001156</td>\n",
       "      <td>12.890173</td>\n",
       "      <td>0.000000</td>\n",
       "    </tr>\n",
       "    <tr>\n",
       "      <th>20</th>\n",
       "      <td>1999</td>\n",
       "      <td>540.149499</td>\n",
       "      <td>40.183227</td>\n",
       "      <td>0.000000</td>\n",
       "    </tr>\n",
       "    <tr>\n",
       "      <th>6</th>\n",
       "      <td>2000</td>\n",
       "      <td>619.037068</td>\n",
       "      <td>39.170177</td>\n",
       "      <td>0.000000</td>\n",
       "    </tr>\n",
       "    <tr>\n",
       "      <th>5</th>\n",
       "      <td>2001</td>\n",
       "      <td>665.019011</td>\n",
       "      <td>23.666160</td>\n",
       "      <td>0.000000</td>\n",
       "    </tr>\n",
       "    <tr>\n",
       "      <th>21</th>\n",
       "      <td>2002</td>\n",
       "      <td>695.267181</td>\n",
       "      <td>25.496525</td>\n",
       "      <td>0.000000</td>\n",
       "    </tr>\n",
       "    <tr>\n",
       "      <th>0</th>\n",
       "      <td>2003</td>\n",
       "      <td>772.575427</td>\n",
       "      <td>16.230034</td>\n",
       "      <td>0.000000</td>\n",
       "    </tr>\n",
       "    <tr>\n",
       "      <th>17</th>\n",
       "      <td>2004</td>\n",
       "      <td>662.949045</td>\n",
       "      <td>11.527389</td>\n",
       "      <td>0.000000</td>\n",
       "    </tr>\n",
       "    <tr>\n",
       "      <th>29</th>\n",
       "      <td>2005</td>\n",
       "      <td>401.527956</td>\n",
       "      <td>137.313171</td>\n",
       "      <td>0.000000</td>\n",
       "    </tr>\n",
       "    <tr>\n",
       "      <th>14</th>\n",
       "      <td>2006</td>\n",
       "      <td>421.547214</td>\n",
       "      <td>127.363734</td>\n",
       "      <td>0.000000</td>\n",
       "    </tr>\n",
       "    <tr>\n",
       "      <th>8</th>\n",
       "      <td>2007</td>\n",
       "      <td>410.878843</td>\n",
       "      <td>121.577149</td>\n",
       "      <td>0.000000</td>\n",
       "    </tr>\n",
       "    <tr>\n",
       "      <th>38</th>\n",
       "      <td>2008</td>\n",
       "      <td>418.097076</td>\n",
       "      <td>128.056474</td>\n",
       "      <td>0.000000</td>\n",
       "    </tr>\n",
       "    <tr>\n",
       "      <th>37</th>\n",
       "      <td>2009</td>\n",
       "      <td>420.811521</td>\n",
       "      <td>115.720361</td>\n",
       "      <td>0.000000</td>\n",
       "    </tr>\n",
       "    <tr>\n",
       "      <th>11</th>\n",
       "      <td>2010</td>\n",
       "      <td>414.233856</td>\n",
       "      <td>108.603983</td>\n",
       "      <td>0.000000</td>\n",
       "    </tr>\n",
       "    <tr>\n",
       "      <th>12</th>\n",
       "      <td>2011</td>\n",
       "      <td>432.815538</td>\n",
       "      <td>120.997187</td>\n",
       "      <td>0.000000</td>\n",
       "    </tr>\n",
       "    <tr>\n",
       "      <th>25</th>\n",
       "      <td>2012</td>\n",
       "      <td>442.074445</td>\n",
       "      <td>146.435055</td>\n",
       "      <td>0.000000</td>\n",
       "    </tr>\n",
       "    <tr>\n",
       "      <th>15</th>\n",
       "      <td>2013</td>\n",
       "      <td>424.883304</td>\n",
       "      <td>123.696442</td>\n",
       "      <td>0.000000</td>\n",
       "    </tr>\n",
       "    <tr>\n",
       "      <th>24</th>\n",
       "      <td>2014</td>\n",
       "      <td>390.173063</td>\n",
       "      <td>49.836853</td>\n",
       "      <td>43.198294</td>\n",
       "    </tr>\n",
       "    <tr>\n",
       "      <th>23</th>\n",
       "      <td>2015</td>\n",
       "      <td>393.900322</td>\n",
       "      <td>52.973828</td>\n",
       "      <td>46.558631</td>\n",
       "    </tr>\n",
       "    <tr>\n",
       "      <th>26</th>\n",
       "      <td>2016</td>\n",
       "      <td>383.889089</td>\n",
       "      <td>47.736477</td>\n",
       "      <td>40.877603</td>\n",
       "    </tr>\n",
       "    <tr>\n",
       "      <th>13</th>\n",
       "      <td>2017</td>\n",
       "      <td>387.920268</td>\n",
       "      <td>50.255797</td>\n",
       "      <td>42.960933</td>\n",
       "    </tr>\n",
       "    <tr>\n",
       "      <th>9</th>\n",
       "      <td>2018</td>\n",
       "      <td>376.269375</td>\n",
       "      <td>40.401300</td>\n",
       "      <td>31.600546</td>\n",
       "    </tr>\n",
       "    <tr>\n",
       "      <th>34</th>\n",
       "      <td>2019</td>\n",
       "      <td>374.657069</td>\n",
       "      <td>40.896836</td>\n",
       "      <td>33.149691</td>\n",
       "    </tr>\n",
       "  </tbody>\n",
       "</table>\n",
       "</div>"
      ],
      "text/plain": [
       "    year  mean_consommation_level_1  mean_consommation_level_2  \\\n",
       "42  1977                  61.000000                   0.000000   \n",
       "40  1978                 111.000000                   0.000000   \n",
       "33  1979                 425.333333                   0.000000   \n",
       "39  1980                 269.000000                   0.000000   \n",
       "31  1981                 311.636364                   0.000000   \n",
       "18  1982                 302.750000                   0.000000   \n",
       "41  1983                 146.111111                   0.000000   \n",
       "30  1984                 212.333333                   0.000000   \n",
       "3   1985                 228.322581                   0.000000   \n",
       "32  1986                 419.254545                   0.000000   \n",
       "4   1987                 404.009852                   0.000000   \n",
       "10  1988                 405.079812                  13.258216   \n",
       "2   1989                 435.724138                  10.000000   \n",
       "22  1990                 441.858182                  22.727273   \n",
       "35  1991                 609.787456                   7.979094   \n",
       "28  1992                 447.554896                  17.798220   \n",
       "7   1993                 435.354286                  21.157143   \n",
       "16  1994                 432.370968                  19.838710   \n",
       "27  1995                 455.932886                  15.929530   \n",
       "36  1996                 567.076261                  19.867159   \n",
       "1   1997                 492.503605                  12.765191   \n",
       "19  1998                 520.001156                  12.890173   \n",
       "20  1999                 540.149499                  40.183227   \n",
       "6   2000                 619.037068                  39.170177   \n",
       "5   2001                 665.019011                  23.666160   \n",
       "21  2002                 695.267181                  25.496525   \n",
       "0   2003                 772.575427                  16.230034   \n",
       "17  2004                 662.949045                  11.527389   \n",
       "29  2005                 401.527956                 137.313171   \n",
       "14  2006                 421.547214                 127.363734   \n",
       "8   2007                 410.878843                 121.577149   \n",
       "38  2008                 418.097076                 128.056474   \n",
       "37  2009                 420.811521                 115.720361   \n",
       "11  2010                 414.233856                 108.603983   \n",
       "12  2011                 432.815538                 120.997187   \n",
       "25  2012                 442.074445                 146.435055   \n",
       "15  2013                 424.883304                 123.696442   \n",
       "24  2014                 390.173063                  49.836853   \n",
       "23  2015                 393.900322                  52.973828   \n",
       "26  2016                 383.889089                  47.736477   \n",
       "13  2017                 387.920268                  50.255797   \n",
       "9   2018                 376.269375                  40.401300   \n",
       "34  2019                 374.657069                  40.896836   \n",
       "\n",
       "    mean_consommation_level_3  \n",
       "42                   0.000000  \n",
       "40                   0.000000  \n",
       "33                   0.000000  \n",
       "39                   0.000000  \n",
       "31                   0.000000  \n",
       "18                   0.000000  \n",
       "41                   0.000000  \n",
       "30                   0.000000  \n",
       "3                    0.000000  \n",
       "32                   0.000000  \n",
       "4                    0.000000  \n",
       "10                   0.000000  \n",
       "2                    0.000000  \n",
       "22                   0.000000  \n",
       "35                   0.000000  \n",
       "28                   0.000000  \n",
       "7                    0.000000  \n",
       "16                   0.000000  \n",
       "27                   0.000000  \n",
       "36                   0.000000  \n",
       "1                    0.000000  \n",
       "19                   0.000000  \n",
       "20                   0.000000  \n",
       "6                    0.000000  \n",
       "5                    0.000000  \n",
       "21                   0.000000  \n",
       "0                    0.000000  \n",
       "17                   0.000000  \n",
       "29                   0.000000  \n",
       "14                   0.000000  \n",
       "8                    0.000000  \n",
       "38                   0.000000  \n",
       "37                   0.000000  \n",
       "11                   0.000000  \n",
       "12                   0.000000  \n",
       "25                   0.000000  \n",
       "15                   0.000000  \n",
       "24                  43.198294  \n",
       "23                  46.558631  \n",
       "26                  40.877603  \n",
       "13                  42.960933  \n",
       "9                   31.600546  \n",
       "34                  33.149691  "
      ]
     },
     "execution_count": 68,
     "metadata": {},
     "output_type": "execute_result"
    }
   ],
   "source": [
    "df_yearly"
   ]
  },
  {
   "cell_type": "code",
   "execution_count": 69,
   "id": "rQfIMW6p58pL",
   "metadata": {
    "id": "rQfIMW6p58pL"
   },
   "outputs": [
    {
     "data": {
      "image/png": "[encoded data removed]",
      "text/plain": [
       "<Figure size 1400x700 with 1 Axes>"
      ]
     },
     "metadata": {},
     "output_type": "display_data"
    }
   ],
   "source": [
    "df_yearly.set_index('year')[['mean_consommation_level_1', 'mean_consommation_level_2', 'mean_consommation_level_3']].plot(kind='bar', stacked=True, figsize=(14, 7))\n",
    "plt.title('Moyenne de Consommation d\\'électricité par niveaux et par année ( Diagrammes en bâtons empilés)')\n",
    "plt.xlabel('Année')\n",
    "plt.ylabel('Consommation (kWh)')\n",
    "plt.legend(title='Niveaux')\n",
    "plt.show()"
   ]
  },
  {
   "cell_type": "code",
   "execution_count": 70,
   "id": "1gkDGV_Q59RV",
   "metadata": {
    "id": "1gkDGV_Q59RV"
   },
   "outputs": [
    {
     "data": {
      "image/png": "[encoded data removed]",
      "text/plain": [
       "<Figure size 1400x700 with 1 Axes>"
      ]
     },
     "metadata": {},
     "output_type": "display_data"
    }
   ],
   "source": [
    "df_yearly.plot(x='year', y=['mean_consommation_level_1', 'mean_consommation_level_2', 'mean_consommation_level_3'], figsize=(14, 7))\n",
    "plt.title('Moyenne de Consommation d\\'électricité par niveaux et par année (Line Plot)')\n",
    "plt.xlabel('Année')\n",
    "plt.ylabel('Consommation (kWh)')\n",
    "plt.legend(title='Niveaux')\n",
    "plt.show()"
   ]
  },
  {
   "cell_type": "code",
   "execution_count": 71,
   "id": "OtIVobTt_UNj",
   "metadata": {
    "id": "OtIVobTt_UNj"
   },
   "outputs": [],
   "source": [
    "aux_data = {\n",
    "    11: \"Type A\",\n",
    "    10: \"Type B\"\n",
    "}\n",
    "\n",
    "broadcast_aux_data = spark.sparkContext.broadcast(aux_data)\n",
    "\n",
    "def map_tarif_type(tarif_type):\n",
    "    return broadcast_aux_data.value.get(tarif_type, \"Unknown\")\n",
    "\n",
    "\n",
    "map_tarif_type_udf = udf(map_tarif_type, StringType())\n",
    "\n",
    "df_with_tarif_name = df_spark.withColumn(\"tarif_name\", map_tarif_type_udf(col(\"tarif_type\")))"
   ]
  },
  {
   "cell_type": "code",
   "execution_count": 72,
   "id": "BvhtmVBAGY-g",
   "metadata": {
    "id": "BvhtmVBAGY-g"
   },
   "outputs": [],
   "source": [
    "def join_operation(df):\n",
    "    return df.join(df_with_tarif_name, \"tarif_type\")"
   ]
  },
  {
   "cell_type": "code",
   "execution_count": 73,
   "id": "4B3IdIZWGfWs",
   "metadata": {
    "id": "4B3IdIZWGfWs"
   },
   "outputs": [
    {
     "name": "stdout",
     "output_type": "stream",
     "text": [
      "0.7451686859130859\n"
     ]
    }
   ],
   "source": [
    "start = time.time()\n",
    "join_operation(df_with_tarif_name)\n",
    "end = time.time()\n",
    "temps7 = end - start\n",
    "print(temps7)"
   ]
  },
  {
   "cell_type": "code",
   "execution_count": 74,
   "id": "ALzNJ6dEGlkF",
   "metadata": {
    "id": "ALzNJ6dEGlkF"
   },
   "outputs": [
    {
     "data": {
      "image/png": "[encoded data removed]",
      "text/plain": [
       "<Figure size 640x480 with 1 Axes>"
      ]
     },
     "metadata": {},
     "output_type": "display_data"
    }
   ],
   "source": [
    "temps_exec = [temps4, temps5, temps6, temps7]\n",
    "etiquettes = ['normal', 'cache', 'repartition','broadcast']\n",
    "plt.bar(etiquettes, temps_exec)\n",
    "plt.title('Comparaison des temps d\\'exécution')\n",
    "plt.xlabel('Type d\\'exécution')\n",
    "plt.ylabel('Temps (secondes)')\n",
    "\n",
    "plt.show()"
   ]
  },
  {
   "cell_type": "markdown",
   "id": "8eBNwuKK0Mqg",
   "metadata": {
    "id": "8eBNwuKK0Mqg"
   },
   "source": [
    "# **Utilisation de Kafka pour le Streaming des Données en Temps Réel 🌐**"
   ]
  },
  {
   "cell_type": "code",
   "execution_count": 77,
   "id": "Tp_zR5hNJDdX",
   "metadata": {
    "id": "Tp_zR5hNJDdX"
   },
   "outputs": [
    {
     "ename": "NoBrokersAvailable",
     "evalue": "NoBrokersAvailable",
     "output_type": "error",
     "traceback": [
      "\u001b[0;31m---------------------------------------------------------------------------\u001b[0m",
      "\u001b[0;31mNoBrokersAvailable\u001b[0m                        Traceback (most recent call last)",
      "Cell \u001b[0;32mIn[77], line 1\u001b[0m\n\u001b[0;32m----> 1\u001b[0m producer \u001b[38;5;241m=\u001b[39m \u001b[43mKafkaProducer\u001b[49m\u001b[43m(\u001b[49m\u001b[43mbootstrap_servers\u001b[49m\u001b[38;5;241;43m=\u001b[39;49m\u001b[38;5;124;43m'\u001b[39;49m\u001b[38;5;124;43med-kafka:29092\u001b[39;49m\u001b[38;5;124;43m'\u001b[39;49m\u001b[43m)\u001b[49m\n\u001b[1;32m      2\u001b[0m df_spark \u001b[38;5;241m=\u001b[39m df_spark\u001b[38;5;241m.\u001b[39mlimit(\u001b[38;5;241m5\u001b[39m)\n\u001b[1;32m      4\u001b[0m df_spark \u001b[38;5;241m=\u001b[39m df_spark\u001b[38;5;241m.\u001b[39mtoPandas()\n",
      "File \u001b[0;32m/opt/conda/lib/python3.11/site-packages/kafka/producer/kafka.py:381\u001b[0m, in \u001b[0;36mKafkaProducer.__init__\u001b[0;34m(self, **configs)\u001b[0m\n\u001b[1;32m    378\u001b[0m reporters \u001b[38;5;241m=\u001b[39m [reporter() \u001b[38;5;28;01mfor\u001b[39;00m reporter \u001b[38;5;129;01min\u001b[39;00m \u001b[38;5;28mself\u001b[39m\u001b[38;5;241m.\u001b[39mconfig[\u001b[38;5;124m'\u001b[39m\u001b[38;5;124mmetric_reporters\u001b[39m\u001b[38;5;124m'\u001b[39m]]\n\u001b[1;32m    379\u001b[0m \u001b[38;5;28mself\u001b[39m\u001b[38;5;241m.\u001b[39m_metrics \u001b[38;5;241m=\u001b[39m Metrics(metric_config, reporters)\n\u001b[0;32m--> 381\u001b[0m client \u001b[38;5;241m=\u001b[39m \u001b[43mKafkaClient\u001b[49m\u001b[43m(\u001b[49m\u001b[43mmetrics\u001b[49m\u001b[38;5;241;43m=\u001b[39;49m\u001b[38;5;28;43mself\u001b[39;49m\u001b[38;5;241;43m.\u001b[39;49m\u001b[43m_metrics\u001b[49m\u001b[43m,\u001b[49m\u001b[43m \u001b[49m\u001b[43mmetric_group_prefix\u001b[49m\u001b[38;5;241;43m=\u001b[39;49m\u001b[38;5;124;43m'\u001b[39;49m\u001b[38;5;124;43mproducer\u001b[39;49m\u001b[38;5;124;43m'\u001b[39;49m\u001b[43m,\u001b[49m\n\u001b[1;32m    382\u001b[0m \u001b[43m                     \u001b[49m\u001b[43mwakeup_timeout_ms\u001b[49m\u001b[38;5;241;43m=\u001b[39;49m\u001b[38;5;28;43mself\u001b[39;49m\u001b[38;5;241;43m.\u001b[39;49m\u001b[43mconfig\u001b[49m\u001b[43m[\u001b[49m\u001b[38;5;124;43m'\u001b[39;49m\u001b[38;5;124;43mmax_block_ms\u001b[39;49m\u001b[38;5;124;43m'\u001b[39;49m\u001b[43m]\u001b[49m\u001b[43m,\u001b[49m\n\u001b[1;32m    383\u001b[0m \u001b[43m                     \u001b[49m\u001b[38;5;241;43m*\u001b[39;49m\u001b[38;5;241;43m*\u001b[39;49m\u001b[38;5;28;43mself\u001b[39;49m\u001b[38;5;241;43m.\u001b[39;49m\u001b[43mconfig\u001b[49m\u001b[43m)\u001b[49m\n\u001b[1;32m    385\u001b[0m \u001b[38;5;66;03m# Get auto-discovered version from client if necessary\u001b[39;00m\n\u001b[1;32m    386\u001b[0m \u001b[38;5;28;01mif\u001b[39;00m \u001b[38;5;28mself\u001b[39m\u001b[38;5;241m.\u001b[39mconfig[\u001b[38;5;124m'\u001b[39m\u001b[38;5;124mapi_version\u001b[39m\u001b[38;5;124m'\u001b[39m] \u001b[38;5;129;01mis\u001b[39;00m \u001b[38;5;28;01mNone\u001b[39;00m:\n",
      "File \u001b[0;32m/opt/conda/lib/python3.11/site-packages/kafka/client_async.py:244\u001b[0m, in \u001b[0;36mKafkaClient.__init__\u001b[0;34m(self, **configs)\u001b[0m\n\u001b[1;32m    242\u001b[0m \u001b[38;5;28;01mif\u001b[39;00m \u001b[38;5;28mself\u001b[39m\u001b[38;5;241m.\u001b[39mconfig[\u001b[38;5;124m'\u001b[39m\u001b[38;5;124mapi_version\u001b[39m\u001b[38;5;124m'\u001b[39m] \u001b[38;5;129;01mis\u001b[39;00m \u001b[38;5;28;01mNone\u001b[39;00m:\n\u001b[1;32m    243\u001b[0m     check_timeout \u001b[38;5;241m=\u001b[39m \u001b[38;5;28mself\u001b[39m\u001b[38;5;241m.\u001b[39mconfig[\u001b[38;5;124m'\u001b[39m\u001b[38;5;124mapi_version_auto_timeout_ms\u001b[39m\u001b[38;5;124m'\u001b[39m] \u001b[38;5;241m/\u001b[39m \u001b[38;5;241m1000\u001b[39m\n\u001b[0;32m--> 244\u001b[0m     \u001b[38;5;28mself\u001b[39m\u001b[38;5;241m.\u001b[39mconfig[\u001b[38;5;124m'\u001b[39m\u001b[38;5;124mapi_version\u001b[39m\u001b[38;5;124m'\u001b[39m] \u001b[38;5;241m=\u001b[39m \u001b[38;5;28;43mself\u001b[39;49m\u001b[38;5;241;43m.\u001b[39;49m\u001b[43mcheck_version\u001b[49m\u001b[43m(\u001b[49m\u001b[43mtimeout\u001b[49m\u001b[38;5;241;43m=\u001b[39;49m\u001b[43mcheck_timeout\u001b[49m\u001b[43m)\u001b[49m\n",
      "File \u001b[0;32m/opt/conda/lib/python3.11/site-packages/kafka/client_async.py:900\u001b[0m, in \u001b[0;36mKafkaClient.check_version\u001b[0;34m(self, node_id, timeout, strict)\u001b[0m\n\u001b[1;32m    898\u001b[0m \u001b[38;5;28;01mif\u001b[39;00m try_node \u001b[38;5;129;01mis\u001b[39;00m \u001b[38;5;28;01mNone\u001b[39;00m:\n\u001b[1;32m    899\u001b[0m     \u001b[38;5;28mself\u001b[39m\u001b[38;5;241m.\u001b[39m_lock\u001b[38;5;241m.\u001b[39mrelease()\n\u001b[0;32m--> 900\u001b[0m     \u001b[38;5;28;01mraise\u001b[39;00m Errors\u001b[38;5;241m.\u001b[39mNoBrokersAvailable()\n\u001b[1;32m    901\u001b[0m \u001b[38;5;28mself\u001b[39m\u001b[38;5;241m.\u001b[39m_maybe_connect(try_node)\n\u001b[1;32m    902\u001b[0m conn \u001b[38;5;241m=\u001b[39m \u001b[38;5;28mself\u001b[39m\u001b[38;5;241m.\u001b[39m_conns[try_node]\n",
      "\u001b[0;31mNoBrokersAvailable\u001b[0m: NoBrokersAvailable"
     ]
    }
   ],
   "source": [
    "producer = KafkaProducer(bootstrap_servers='ed-kafka:29092')\n",
    "df_spark = df_spark.limit(5)\n",
    "\n",
    "df_spark = df_spark.toPandas()\n",
    "\n",
    "for index, row in df_spark.iterrows():\n",
    "    row_str = '\\t'.join(row.astype(str))\n",
    "    producer.send('device-data', value=row_str.encode('utf-8'))\n",
    "    time.sleep(0.1)\n",
    "\n",
    "producer.flush()\n",
    "\n",
    "df_spark"
   ]
  },
  {
   "cell_type": "code",
   "execution_count": null,
   "id": "EDXwo3dqJ_QM",
   "metadata": {
    "id": "EDXwo3dqJ_QM"
   },
   "outputs": [],
   "source": [
    "kafka_df = (\n",
    "    spark\n",
    "    .readStream\n",
    "    .format(\"kafka\")\n",
    "    .option(\"kafka.bootstrap.servers\", \"ed-kafka:29092\")\n",
    "    .option(\"subscribe\", \"device-data\")\n",
    "    .option(\"startingOffsets\", \"earliest\")\n",
    "    .load()\n",
    ")"
   ]
  },
  {
   "cell_type": "code",
   "execution_count": null,
   "id": "8ccef7ab-12ea-4e22-9d76-0fa186606c74",
   "metadata": {
    "id": "8ccef7ab-12ea-4e22-9d76-0fa186606c74"
   },
   "outputs": [],
   "source": [
    "value_df = kafka_df.selectExpr(\"CAST(value AS STRING)\")"
   ]
  },
  {
   "cell_type": "code",
   "execution_count": null,
   "id": "c36841f9-6c70-49cd-8a6d-1b1a1c3dbcde",
   "metadata": {
    "id": "c36841f9-6c70-49cd-8a6d-1b1a1c3dbcde"
   },
   "outputs": [],
   "source": [
    "csv_df = value_df.select(split(value_df[\"value\"], \"\\t\").alias(\"data\"))"
   ]
  },
  {
   "cell_type": "code",
   "execution_count": null,
   "id": "e4e0d9bb-5ada-4126-817a-505d24ae4cef",
   "metadata": {
    "id": "e4e0d9bb-5ada-4126-817a-505d24ae4cef"
   },
   "outputs": [],
   "source": [
    "final_df = csv_df.select(\n",
    "    col(\"data\").getItem(0).alias(\"invoice_date\"),\n",
    "    col(\"data\").getItem(1).alias(\"tarif_type\"),\n",
    "    col(\"data\").getItem(2).alias(\"consommation_level_1\"),\n",
    "    col(\"data\").getItem(3).alias(\"consommation_level_2\"),\n",
    "    col(\"data\").getItem(4).alias(\"consommation_level_3\"),\n",
    "    col(\"data\").getItem(5).alias(\"consommation_level_4\"),\n",
    "    col(\"data\").getItem(6).alias(\"old_index\"),\n",
    "    col(\"data\").getItem(7).alias(\"new_index\"),\n",
    "    col(\"data\").getItem(8).alias(\"months_number\"),\n",
    ")"
   ]
  },
  {
   "cell_type": "code",
   "execution_count": null,
   "id": "2fff8283-983a-4019-a6c9-34986616b4de",
   "metadata": {
    "id": "2fff8283-983a-4019-a6c9-34986616b4de"
   },
   "outputs": [],
   "source": [
    "def plot_data(df):\n",
    "    df = df.withColumn('year', year(col('invoice_date')))\n",
    "    grouped_df = df.groupBy('year').sum(\n",
    "        'consommation_level_1',\n",
    "        'consommation_level_2',\n",
    "        'consommation_level_3'\n",
    "    ).orderBy('year')\n",
    "    pdf = grouped_df.toPandas()\n",
    "    pdf = pdf.sort_values(by='year')\n",
    "    plt.figure(figsize=(10, 6))\n",
    "    plt.plot(pdf['year'], pdf['sum(consommation_level_1)'], label='Consommation Level 1')\n",
    "    plt.plot(pdf['year'], pdf['sum(consommation_level_2)'], label='Consommation Level 2')\n",
    "    plt.plot(pdf['year'], pdf['sum(consommation_level_3)'], label='Consommation Level 3')\n",
    "    plt.xlabel('Year')\n",
    "    plt.ylabel('Consumption Level')\n",
    "    plt.title('Consumption Levels by Year')\n",
    "    plt.legend()\n",
    "    plt.show()"
   ]
  },
  {
   "cell_type": "code",
   "execution_count": null,
   "id": "6af533ce-cccc-4851-ac27-b91e3b73e111",
   "metadata": {
    "id": "6af533ce-cccc-4851-ac27-b91e3b73e111"
   },
   "outputs": [],
   "source": [
    "def tracer_consommation_par_tarif(df):\n",
    "    grouped_df = df.groupBy('tarif_type').sum('consommation_level_1')\n",
    "    pdf = grouped_df.toPandas()\n",
    "    fig = px.bar(pdf, y='sum(consommation_level_1)', x='tarif_type', title='Niveau de Consommation 1 par Type de Tarif', labels={'sum(consommation_level_1)': 'Niveau de Consommation 1', 'tarif_type': 'Type de Tarif'})\n",
    "    fig.show()"
   ]
  },
  {
   "cell_type": "code",
   "execution_count": null,
   "id": "15b5c409-3025-49cc-a364-b4e411ee1451",
   "metadata": {
    "id": "15b5c409-3025-49cc-a364-b4e411ee1451"
   },
   "outputs": [],
   "source": [
    "def tracer_consommation_moyenne_mensuelle_par_tarif(df):\n",
    "    df = df.withColumn('consommation_mensuelle', (col('new_index') - col('old_index')) / col('months_number'))\n",
    "    grouped_df = df.groupBy('tarif_type').avg('consommation_mensuelle')\n",
    "    pdf = grouped_df.toPandas()\n",
    "    fig = px.bar(pdf, x='tarif_type', y='avg(consommation_mensuelle)', title='Consommation Mensuelle Moyenne par Type de Tarif', labels={'avg(consommation_mensuelle)': 'Consommation Mensuelle Moyenne', 'tarif_type': 'Type de Tarif'})\n",
    "    fig.update_xaxes(tickmode='array', tickvals=pdf['tarif_type'])\n",
    "    fig.show()"
   ]
  },
  {
   "cell_type": "code",
   "execution_count": null,
   "id": "68fb5e76-6cec-4ca5-9b77-1154e7a37849",
   "metadata": {
    "id": "68fb5e76-6cec-4ca5-9b77-1154e7a37849"
   },
   "outputs": [],
   "source": [
    "def cast_columns(df):\n",
    "    return df \\\n",
    "        .withColumn(\"invoice_date\", col(\"invoice_date\").cast(TimestampType())) \\\n",
    "        .withColumn(\"tarif_type\", col(\"tarif_type\").cast(IntegerType())) \\\n",
    "        .withColumn(\"consommation_level_1\", col(\"consommation_level_1\").cast(IntegerType())) \\\n",
    "        .withColumn(\"consommation_level_2\", col(\"consommation_level_2\").cast(IntegerType())) \\\n",
    "        .withColumn(\"consommation_level_3\", col(\"consommation_level_3\").cast(IntegerType())) \\\n",
    "        .withColumn(\"consommation_level_4\", col(\"consommation_level_4\").cast(IntegerType())) \\\n",
    "        .withColumn(\"old_index\", col(\"old_index\").cast(IntegerType())) \\\n",
    "        .withColumn(\"new_index\", col(\"new_index\").cast(IntegerType())) \\\n",
    "        .withColumn(\"months_number\", col(\"months_number\").cast(IntegerType()))"
   ]
  },
  {
   "cell_type": "code",
   "execution_count": null,
   "id": "26aff0c5-43b9-42cd-a0d3-988b0c984417",
   "metadata": {
    "id": "26aff0c5-43b9-42cd-a0d3-988b0c984417"
   },
   "outputs": [],
   "source": [
    "global_df = None\n",
    "def process_batch(batch_df, batch_id):\n",
    "    global global_df\n",
    "    print(f\"Batch {batch_id}\")\n",
    "    batch_df = cast_columns(batch_df)\n",
    "    if global_df is None:\n",
    "        global_df = batch_df\n",
    "    else:\n",
    "        global_df = global_df.union(batch_df)\n",
    "\n",
    "    global_df.show(truncate=False)\n",
    "    plot_data(global_df)\n",
    "    tracer_consommation_par_tarif(global_df)\n",
    "    tracer_consommation_moyenne_mensuelle_par_tarif(global_df)\n",
    "final_df.printSchema()"
   ]
  },
  {
   "cell_type": "code",
   "execution_count": null,
   "id": "49c754ec-f1e6-4585-91c3-70127121660d",
   "metadata": {
    "id": "49c754ec-f1e6-4585-91c3-70127121660d"
   },
   "outputs": [],
   "source": [
    "query = (\n",
    "    final_df\n",
    "    .writeStream\n",
    "    .outputMode(\"append\")\n",
    "    .foreachBatch(process_batch)\n",
    "    .start()\n",
    ")\n",
    "\n",
    "query.awaitTermination()"
   ]
  },
  {
   "cell_type": "code",
   "execution_count": null,
   "id": "97011de1-c7d3-4328-9027-e59794564d4b",
   "metadata": {
    "id": "97011de1-c7d3-4328-9027-e59794564d4b"
   },
   "outputs": [],
   "source": []
  }
 ],
 "metadata": {
  "colab": {
   "provenance": []
  },
  "kernelspec": {
   "display_name": "Python 3 (ipykernel)",
   "language": "python",
   "name": "python3"
  },
  "language_info": {
   "codemirror_mode": {
    "name": "ipython",
    "version": 3
   },
   "file_extension": ".py",
   "mimetype": "text/x-python",
   "name": "python",
   "nbconvert_exporter": "python",
   "pygments_lexer": "ipython3",
   "version": "3.11.6"
  }
 },
 "nbformat": 4,
 "nbformat_minor": 5
}
